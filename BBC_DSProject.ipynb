{
  "nbformat": 4,
  "nbformat_minor": 0,
  "metadata": {
    "colab": {
      "provenance": [],
      "authorship_tag": "ABX9TyPVyQ/WRiYIoNOFb2zLqyxR",
      "include_colab_link": true
    },
    "kernelspec": {
      "name": "python3",
      "display_name": "Python 3"
    },
    "language_info": {
      "name": "python"
    }
  },
  "cells": [
    {
      "cell_type": "markdown",
      "metadata": {
        "id": "view-in-github",
        "colab_type": "text"
      },
      "source": [
        "<a href=\"https://colab.research.google.com/github/CassDabii/BBC-DS-Task/blob/main/BBC_DSProject.ipynb\" target=\"_parent\"><img src=\"https://colab.research.google.com/assets/colab-badge.svg\" alt=\"Open In Colab\"/></a>"
      ]
    },
    {
      "cell_type": "markdown",
      "source": [
        "***BBC Data Science Project*** \n",
        "---\n",
        "Since this project is open ended it is up to me to determine what data is useful to make actionable insights. To do this I will make a list of *preliminary* goals that are variable, however any goals added or omitted will not be hidden but instead justified to maintain credibility\n",
        "\n"
      ],
      "metadata": {
        "id": "Icb-dKrgg0P8"
      }
    },
    {
      "cell_type": "markdown",
      "source": [
        "\n",
        "Goals\n",
        "*   Determine the effect weather has on the length of the journey and the cycle volume.\n",
        "*   Determine the usefulness and performance of trying to predict cycle volumes\n",
        "*   Decipher where to add another station\n",
        "*   If the business was ever wanting to get rid of a station what station would make the most sense to get rid of.\n",
        "*   What effect bike station capacity has (e.g., the more spaces the more people go use it).\n",
        "*   Which stations would it be useful to expand.\n",
        "\n",
        "\n",
        "\n",
        "\n",
        "\n",
        "\n",
        "\n",
        "\n",
        "\n",
        "\n"
      ],
      "metadata": {
        "id": "mKFFW223qxl3"
      }
    },
    {
      "cell_type": "markdown",
      "source": [
        "## Acquiring Data"
      ],
      "metadata": {
        "id": "h8bu9o4ChHtg"
      }
    },
    {
      "cell_type": "code",
      "source": [
        "# All imports declared at top cell to have a centralised location if changes are needed\n",
        "import pandas as pd\n",
        "import matplotlib.pyplot  as plt\n",
        "%matplotlib inline\n",
        "import numpy as np\n",
        "import sqlite3 "
      ],
      "metadata": {
        "id": "a5yGzT63cCMT"
      },
      "execution_count": 1,
      "outputs": []
    },
    {
      "cell_type": "code",
      "execution_count": 2,
      "metadata": {
        "id": "IwpaSDhxPBv0"
      },
      "outputs": [],
      "source": [
        "# Connects to my uploaded database and creates a cursor object to execute SQL statements when needed\n",
        "conn = sqlite3.connect('/content/BBCDS.sqlite3')\n",
        "\n",
        "cursor = conn.cursor()"
      ]
    },
    {
      "cell_type": "code",
      "source": [
        "# Reads the database tables and writes it into a dataframe\n",
        "bike_journeys = pd.read_sql('SELECT * FROM bike_journeys;',conn)\n",
        "bike_stations = pd.read_sql('SELECT * FROM bike_stations;',conn)\n",
        "weather = pd.read_sql('SELECT * FROM weather;',conn)"
      ],
      "metadata": {
        "id": "69p1Kp7DZU1R"
      },
      "execution_count": 3,
      "outputs": []
    },
    {
      "cell_type": "markdown",
      "source": [
        "### Bike Journeys"
      ],
      "metadata": {
        "id": "SHVQAi9ijOsa"
      }
    },
    {
      "cell_type": "code",
      "source": [
        "# Shows the data in a dataframe format\n",
        "bike_journeys "
      ],
      "metadata": {
        "id": "_EWja6TSgad7",
        "colab": {
          "base_uri": "https://localhost:8080/",
          "height": 502
        },
        "outputId": "cd930ae1-2bc3-4f89-892b-e9fb887db505"
      },
      "execution_count": 4,
      "outputs": [
        {
          "output_type": "execute_result",
          "data": {
            "text/plain": [
              "         Journey Duration  Journey ID  End Date  End Month  End Year  \\\n",
              "0                    2040         953        19          9        17   \n",
              "1                    1800       12581        19          9        17   \n",
              "2                    1140        1159        15          9        17   \n",
              "3                     420        2375        14          9        17   \n",
              "4                    1200       14659        13          9        17   \n",
              "...                   ...         ...       ...        ...       ...   \n",
              "1542839               270        5296         8          8        17   \n",
              "1542840               911       12348         8          8        17   \n",
              "1542841               447        8303         8          8        17   \n",
              "1542842               424       12038         8          8        17   \n",
              "1542843               307        4590         8          8        17   \n",
              "\n",
              "         End Hour  End Minute  End Station ID  Start Date  Start Month  \\\n",
              "0              18           0             478          19            9   \n",
              "1              15          21             122          19            9   \n",
              "2              17           1             639          15            9   \n",
              "3              12          16             755          14            9   \n",
              "4              19          33             605          13            9   \n",
              "...           ...         ...             ...         ...          ...   \n",
              "1542839         0           2              32           7            8   \n",
              "1542840         0          13             625           7            8   \n",
              "1542841         0           7             453           7            8   \n",
              "1542842         0           6             405           7            8   \n",
              "1542843         0           4              77           7            8   \n",
              "\n",
              "         Start Year  Start Hour  Start Minute  Start Station ID  \n",
              "0                17          17            26               251  \n",
              "1                17          14            51               550  \n",
              "2                17          16            42               212  \n",
              "3                17          12             9               163  \n",
              "4                17          19            13                36  \n",
              "...             ...         ...           ...               ...  \n",
              "1542839          17          23            58                42  \n",
              "1542840          17          23            58               222  \n",
              "1542841          17          23            59               130  \n",
              "1542842          17          23            59               755  \n",
              "1542843          17          23            59                25  \n",
              "\n",
              "[1542844 rows x 14 columns]"
            ],
            "text/html": [
              "\n",
              "  <div id=\"df-ce1d8839-30cb-45f6-a015-bd85fc9af47e\">\n",
              "    <div class=\"colab-df-container\">\n",
              "      <div>\n",
              "<style scoped>\n",
              "    .dataframe tbody tr th:only-of-type {\n",
              "        vertical-align: middle;\n",
              "    }\n",
              "\n",
              "    .dataframe tbody tr th {\n",
              "        vertical-align: top;\n",
              "    }\n",
              "\n",
              "    .dataframe thead th {\n",
              "        text-align: right;\n",
              "    }\n",
              "</style>\n",
              "<table border=\"1\" class=\"dataframe\">\n",
              "  <thead>\n",
              "    <tr style=\"text-align: right;\">\n",
              "      <th></th>\n",
              "      <th>Journey Duration</th>\n",
              "      <th>Journey ID</th>\n",
              "      <th>End Date</th>\n",
              "      <th>End Month</th>\n",
              "      <th>End Year</th>\n",
              "      <th>End Hour</th>\n",
              "      <th>End Minute</th>\n",
              "      <th>End Station ID</th>\n",
              "      <th>Start Date</th>\n",
              "      <th>Start Month</th>\n",
              "      <th>Start Year</th>\n",
              "      <th>Start Hour</th>\n",
              "      <th>Start Minute</th>\n",
              "      <th>Start Station ID</th>\n",
              "    </tr>\n",
              "  </thead>\n",
              "  <tbody>\n",
              "    <tr>\n",
              "      <th>0</th>\n",
              "      <td>2040</td>\n",
              "      <td>953</td>\n",
              "      <td>19</td>\n",
              "      <td>9</td>\n",
              "      <td>17</td>\n",
              "      <td>18</td>\n",
              "      <td>0</td>\n",
              "      <td>478</td>\n",
              "      <td>19</td>\n",
              "      <td>9</td>\n",
              "      <td>17</td>\n",
              "      <td>17</td>\n",
              "      <td>26</td>\n",
              "      <td>251</td>\n",
              "    </tr>\n",
              "    <tr>\n",
              "      <th>1</th>\n",
              "      <td>1800</td>\n",
              "      <td>12581</td>\n",
              "      <td>19</td>\n",
              "      <td>9</td>\n",
              "      <td>17</td>\n",
              "      <td>15</td>\n",
              "      <td>21</td>\n",
              "      <td>122</td>\n",
              "      <td>19</td>\n",
              "      <td>9</td>\n",
              "      <td>17</td>\n",
              "      <td>14</td>\n",
              "      <td>51</td>\n",
              "      <td>550</td>\n",
              "    </tr>\n",
              "    <tr>\n",
              "      <th>2</th>\n",
              "      <td>1140</td>\n",
              "      <td>1159</td>\n",
              "      <td>15</td>\n",
              "      <td>9</td>\n",
              "      <td>17</td>\n",
              "      <td>17</td>\n",
              "      <td>1</td>\n",
              "      <td>639</td>\n",
              "      <td>15</td>\n",
              "      <td>9</td>\n",
              "      <td>17</td>\n",
              "      <td>16</td>\n",
              "      <td>42</td>\n",
              "      <td>212</td>\n",
              "    </tr>\n",
              "    <tr>\n",
              "      <th>3</th>\n",
              "      <td>420</td>\n",
              "      <td>2375</td>\n",
              "      <td>14</td>\n",
              "      <td>9</td>\n",
              "      <td>17</td>\n",
              "      <td>12</td>\n",
              "      <td>16</td>\n",
              "      <td>755</td>\n",
              "      <td>14</td>\n",
              "      <td>9</td>\n",
              "      <td>17</td>\n",
              "      <td>12</td>\n",
              "      <td>9</td>\n",
              "      <td>163</td>\n",
              "    </tr>\n",
              "    <tr>\n",
              "      <th>4</th>\n",
              "      <td>1200</td>\n",
              "      <td>14659</td>\n",
              "      <td>13</td>\n",
              "      <td>9</td>\n",
              "      <td>17</td>\n",
              "      <td>19</td>\n",
              "      <td>33</td>\n",
              "      <td>605</td>\n",
              "      <td>13</td>\n",
              "      <td>9</td>\n",
              "      <td>17</td>\n",
              "      <td>19</td>\n",
              "      <td>13</td>\n",
              "      <td>36</td>\n",
              "    </tr>\n",
              "    <tr>\n",
              "      <th>...</th>\n",
              "      <td>...</td>\n",
              "      <td>...</td>\n",
              "      <td>...</td>\n",
              "      <td>...</td>\n",
              "      <td>...</td>\n",
              "      <td>...</td>\n",
              "      <td>...</td>\n",
              "      <td>...</td>\n",
              "      <td>...</td>\n",
              "      <td>...</td>\n",
              "      <td>...</td>\n",
              "      <td>...</td>\n",
              "      <td>...</td>\n",
              "      <td>...</td>\n",
              "    </tr>\n",
              "    <tr>\n",
              "      <th>1542839</th>\n",
              "      <td>270</td>\n",
              "      <td>5296</td>\n",
              "      <td>8</td>\n",
              "      <td>8</td>\n",
              "      <td>17</td>\n",
              "      <td>0</td>\n",
              "      <td>2</td>\n",
              "      <td>32</td>\n",
              "      <td>7</td>\n",
              "      <td>8</td>\n",
              "      <td>17</td>\n",
              "      <td>23</td>\n",
              "      <td>58</td>\n",
              "      <td>42</td>\n",
              "    </tr>\n",
              "    <tr>\n",
              "      <th>1542840</th>\n",
              "      <td>911</td>\n",
              "      <td>12348</td>\n",
              "      <td>8</td>\n",
              "      <td>8</td>\n",
              "      <td>17</td>\n",
              "      <td>0</td>\n",
              "      <td>13</td>\n",
              "      <td>625</td>\n",
              "      <td>7</td>\n",
              "      <td>8</td>\n",
              "      <td>17</td>\n",
              "      <td>23</td>\n",
              "      <td>58</td>\n",
              "      <td>222</td>\n",
              "    </tr>\n",
              "    <tr>\n",
              "      <th>1542841</th>\n",
              "      <td>447</td>\n",
              "      <td>8303</td>\n",
              "      <td>8</td>\n",
              "      <td>8</td>\n",
              "      <td>17</td>\n",
              "      <td>0</td>\n",
              "      <td>7</td>\n",
              "      <td>453</td>\n",
              "      <td>7</td>\n",
              "      <td>8</td>\n",
              "      <td>17</td>\n",
              "      <td>23</td>\n",
              "      <td>59</td>\n",
              "      <td>130</td>\n",
              "    </tr>\n",
              "    <tr>\n",
              "      <th>1542842</th>\n",
              "      <td>424</td>\n",
              "      <td>12038</td>\n",
              "      <td>8</td>\n",
              "      <td>8</td>\n",
              "      <td>17</td>\n",
              "      <td>0</td>\n",
              "      <td>6</td>\n",
              "      <td>405</td>\n",
              "      <td>7</td>\n",
              "      <td>8</td>\n",
              "      <td>17</td>\n",
              "      <td>23</td>\n",
              "      <td>59</td>\n",
              "      <td>755</td>\n",
              "    </tr>\n",
              "    <tr>\n",
              "      <th>1542843</th>\n",
              "      <td>307</td>\n",
              "      <td>4590</td>\n",
              "      <td>8</td>\n",
              "      <td>8</td>\n",
              "      <td>17</td>\n",
              "      <td>0</td>\n",
              "      <td>4</td>\n",
              "      <td>77</td>\n",
              "      <td>7</td>\n",
              "      <td>8</td>\n",
              "      <td>17</td>\n",
              "      <td>23</td>\n",
              "      <td>59</td>\n",
              "      <td>25</td>\n",
              "    </tr>\n",
              "  </tbody>\n",
              "</table>\n",
              "<p>1542844 rows × 14 columns</p>\n",
              "</div>\n",
              "      <button class=\"colab-df-convert\" onclick=\"convertToInteractive('df-ce1d8839-30cb-45f6-a015-bd85fc9af47e')\"\n",
              "              title=\"Convert this dataframe to an interactive table.\"\n",
              "              style=\"display:none;\">\n",
              "        \n",
              "  <svg xmlns=\"http://www.w3.org/2000/svg\" height=\"24px\"viewBox=\"0 0 24 24\"\n",
              "       width=\"24px\">\n",
              "    <path d=\"M0 0h24v24H0V0z\" fill=\"none\"/>\n",
              "    <path d=\"M18.56 5.44l.94 2.06.94-2.06 2.06-.94-2.06-.94-.94-2.06-.94 2.06-2.06.94zm-11 1L8.5 8.5l.94-2.06 2.06-.94-2.06-.94L8.5 2.5l-.94 2.06-2.06.94zm10 10l.94 2.06.94-2.06 2.06-.94-2.06-.94-.94-2.06-.94 2.06-2.06.94z\"/><path d=\"M17.41 7.96l-1.37-1.37c-.4-.4-.92-.59-1.43-.59-.52 0-1.04.2-1.43.59L10.3 9.45l-7.72 7.72c-.78.78-.78 2.05 0 2.83L4 21.41c.39.39.9.59 1.41.59.51 0 1.02-.2 1.41-.59l7.78-7.78 2.81-2.81c.8-.78.8-2.07 0-2.86zM5.41 20L4 18.59l7.72-7.72 1.47 1.35L5.41 20z\"/>\n",
              "  </svg>\n",
              "      </button>\n",
              "      \n",
              "  <style>\n",
              "    .colab-df-container {\n",
              "      display:flex;\n",
              "      flex-wrap:wrap;\n",
              "      gap: 12px;\n",
              "    }\n",
              "\n",
              "    .colab-df-convert {\n",
              "      background-color: #E8F0FE;\n",
              "      border: none;\n",
              "      border-radius: 50%;\n",
              "      cursor: pointer;\n",
              "      display: none;\n",
              "      fill: #1967D2;\n",
              "      height: 32px;\n",
              "      padding: 0 0 0 0;\n",
              "      width: 32px;\n",
              "    }\n",
              "\n",
              "    .colab-df-convert:hover {\n",
              "      background-color: #E2EBFA;\n",
              "      box-shadow: 0px 1px 2px rgba(60, 64, 67, 0.3), 0px 1px 3px 1px rgba(60, 64, 67, 0.15);\n",
              "      fill: #174EA6;\n",
              "    }\n",
              "\n",
              "    [theme=dark] .colab-df-convert {\n",
              "      background-color: #3B4455;\n",
              "      fill: #D2E3FC;\n",
              "    }\n",
              "\n",
              "    [theme=dark] .colab-df-convert:hover {\n",
              "      background-color: #434B5C;\n",
              "      box-shadow: 0px 1px 3px 1px rgba(0, 0, 0, 0.15);\n",
              "      filter: drop-shadow(0px 1px 2px rgba(0, 0, 0, 0.3));\n",
              "      fill: #FFFFFF;\n",
              "    }\n",
              "  </style>\n",
              "\n",
              "      <script>\n",
              "        const buttonEl =\n",
              "          document.querySelector('#df-ce1d8839-30cb-45f6-a015-bd85fc9af47e button.colab-df-convert');\n",
              "        buttonEl.style.display =\n",
              "          google.colab.kernel.accessAllowed ? 'block' : 'none';\n",
              "\n",
              "        async function convertToInteractive(key) {\n",
              "          const element = document.querySelector('#df-ce1d8839-30cb-45f6-a015-bd85fc9af47e');\n",
              "          const dataTable =\n",
              "            await google.colab.kernel.invokeFunction('convertToInteractive',\n",
              "                                                     [key], {});\n",
              "          if (!dataTable) return;\n",
              "\n",
              "          const docLinkHtml = 'Like what you see? Visit the ' +\n",
              "            '<a target=\"_blank\" href=https://colab.research.google.com/notebooks/data_table.ipynb>data table notebook</a>'\n",
              "            + ' to learn more about interactive tables.';\n",
              "          element.innerHTML = '';\n",
              "          dataTable['output_type'] = 'display_data';\n",
              "          await google.colab.output.renderOutput(dataTable, element);\n",
              "          const docLink = document.createElement('div');\n",
              "          docLink.innerHTML = docLinkHtml;\n",
              "          element.appendChild(docLink);\n",
              "        }\n",
              "      </script>\n",
              "    </div>\n",
              "  </div>\n",
              "  "
            ]
          },
          "metadata": {},
          "execution_count": 4
        }
      ]
    },
    {
      "cell_type": "markdown",
      "source": [
        "Looking over the data, that the lowest change in the time series is minutes: However, cross referenceing with the other columns show that the journey duration is given in seconds so that will have to be changed since that inconsistency lowers the data quality. I also see that some journeys have the same ID so its purpose as a primary key has failed. My initial thoughts are that the data needs a lot of TLC and quality is low due to over use of columns for date and time and no Primary Key. "
      ],
      "metadata": {
        "id": "AuswJDzTd7oI"
      }
    },
    {
      "cell_type": "code",
      "source": [
        "# Shows the data type for each feature/varible\n",
        "bike_journeys.dtypes "
      ],
      "metadata": {
        "id": "lNoQSbymjoa6",
        "colab": {
          "base_uri": "https://localhost:8080/"
        },
        "outputId": "7edf3881-bf35-4603-b68d-aa7756a4ae35"
      },
      "execution_count": 5,
      "outputs": [
        {
          "output_type": "execute_result",
          "data": {
            "text/plain": [
              "Journey Duration    int64\n",
              "Journey ID          int64\n",
              "End Date            int64\n",
              "End Month           int64\n",
              "End Year            int64\n",
              "End Hour            int64\n",
              "End Minute          int64\n",
              "End Station ID      int64\n",
              "Start Date          int64\n",
              "Start Month         int64\n",
              "Start Year          int64\n",
              "Start Hour          int64\n",
              "Start Minute        int64\n",
              "Start Station ID    int64\n",
              "dtype: object"
            ]
          },
          "metadata": {},
          "execution_count": 5
        }
      ]
    },
    {
      "cell_type": "markdown",
      "source": [
        "Since these are all numerical I am thinking the use of the .corr() will be useful and there may be a vast range of data visualisations."
      ],
      "metadata": {
        "id": "XtJuzXtkpHLn"
      }
    },
    {
      "cell_type": "markdown",
      "source": [
        "### Bike Stations"
      ],
      "metadata": {
        "id": "9cRLlFmujVA9"
      }
    },
    {
      "cell_type": "code",
      "source": [
        "bike_stations"
      ],
      "metadata": {
        "id": "wA5xuFBcimGU",
        "colab": {
          "base_uri": "https://localhost:8080/",
          "height": 424
        },
        "outputId": "70f96966-07fa-4bec-ac66-69eca2aa7eb3"
      },
      "execution_count": 6,
      "outputs": [
        {
          "output_type": "execute_result",
          "data": {
            "text/plain": [
              "     Station ID  Capacity   Latitude  Longitude  \\\n",
              "0             1        19  51.529163  -0.109970   \n",
              "1             2        37  51.499606  -0.197574   \n",
              "2             3        32  51.521283  -0.084605   \n",
              "3             4        23  51.530059  -0.120973   \n",
              "4             5        27  51.493130  -0.156876   \n",
              "..          ...       ...        ...        ...   \n",
              "768         190        21  51.489975  -0.132845   \n",
              "769         194        56  51.504627  -0.091773   \n",
              "770         195        30  51.507244  -0.106237   \n",
              "771         196        17  51.503688  -0.098497   \n",
              "772         197        27  51.505569  -0.111606   \n",
              "\n",
              "                             Station Name  \n",
              "0              River Street , Clerkenwell  \n",
              "1          Phillimore Gardens, Kensington  \n",
              "2    Christopher Street, Liverpool Street  \n",
              "3         St. Chad's Street, King's Cross  \n",
              "4           Sedding Street, Sloane Square  \n",
              "..                                    ...  \n",
              "768              Rampayne Street, Pimlico  \n",
              "769             Hop Exchange, The Borough  \n",
              "770               Milroy Walk, South Bank  \n",
              "771             Union Street, The Borough  \n",
              "772           Stamford Street, South Bank  \n",
              "\n",
              "[773 rows x 5 columns]"
            ],
            "text/html": [
              "\n",
              "  <div id=\"df-2d1de6e4-c912-47c0-9c6e-6a3015746c81\">\n",
              "    <div class=\"colab-df-container\">\n",
              "      <div>\n",
              "<style scoped>\n",
              "    .dataframe tbody tr th:only-of-type {\n",
              "        vertical-align: middle;\n",
              "    }\n",
              "\n",
              "    .dataframe tbody tr th {\n",
              "        vertical-align: top;\n",
              "    }\n",
              "\n",
              "    .dataframe thead th {\n",
              "        text-align: right;\n",
              "    }\n",
              "</style>\n",
              "<table border=\"1\" class=\"dataframe\">\n",
              "  <thead>\n",
              "    <tr style=\"text-align: right;\">\n",
              "      <th></th>\n",
              "      <th>Station ID</th>\n",
              "      <th>Capacity</th>\n",
              "      <th>Latitude</th>\n",
              "      <th>Longitude</th>\n",
              "      <th>Station Name</th>\n",
              "    </tr>\n",
              "  </thead>\n",
              "  <tbody>\n",
              "    <tr>\n",
              "      <th>0</th>\n",
              "      <td>1</td>\n",
              "      <td>19</td>\n",
              "      <td>51.529163</td>\n",
              "      <td>-0.109970</td>\n",
              "      <td>River Street , Clerkenwell</td>\n",
              "    </tr>\n",
              "    <tr>\n",
              "      <th>1</th>\n",
              "      <td>2</td>\n",
              "      <td>37</td>\n",
              "      <td>51.499606</td>\n",
              "      <td>-0.197574</td>\n",
              "      <td>Phillimore Gardens, Kensington</td>\n",
              "    </tr>\n",
              "    <tr>\n",
              "      <th>2</th>\n",
              "      <td>3</td>\n",
              "      <td>32</td>\n",
              "      <td>51.521283</td>\n",
              "      <td>-0.084605</td>\n",
              "      <td>Christopher Street, Liverpool Street</td>\n",
              "    </tr>\n",
              "    <tr>\n",
              "      <th>3</th>\n",
              "      <td>4</td>\n",
              "      <td>23</td>\n",
              "      <td>51.530059</td>\n",
              "      <td>-0.120973</td>\n",
              "      <td>St. Chad's Street, King's Cross</td>\n",
              "    </tr>\n",
              "    <tr>\n",
              "      <th>4</th>\n",
              "      <td>5</td>\n",
              "      <td>27</td>\n",
              "      <td>51.493130</td>\n",
              "      <td>-0.156876</td>\n",
              "      <td>Sedding Street, Sloane Square</td>\n",
              "    </tr>\n",
              "    <tr>\n",
              "      <th>...</th>\n",
              "      <td>...</td>\n",
              "      <td>...</td>\n",
              "      <td>...</td>\n",
              "      <td>...</td>\n",
              "      <td>...</td>\n",
              "    </tr>\n",
              "    <tr>\n",
              "      <th>768</th>\n",
              "      <td>190</td>\n",
              "      <td>21</td>\n",
              "      <td>51.489975</td>\n",
              "      <td>-0.132845</td>\n",
              "      <td>Rampayne Street, Pimlico</td>\n",
              "    </tr>\n",
              "    <tr>\n",
              "      <th>769</th>\n",
              "      <td>194</td>\n",
              "      <td>56</td>\n",
              "      <td>51.504627</td>\n",
              "      <td>-0.091773</td>\n",
              "      <td>Hop Exchange, The Borough</td>\n",
              "    </tr>\n",
              "    <tr>\n",
              "      <th>770</th>\n",
              "      <td>195</td>\n",
              "      <td>30</td>\n",
              "      <td>51.507244</td>\n",
              "      <td>-0.106237</td>\n",
              "      <td>Milroy Walk, South Bank</td>\n",
              "    </tr>\n",
              "    <tr>\n",
              "      <th>771</th>\n",
              "      <td>196</td>\n",
              "      <td>17</td>\n",
              "      <td>51.503688</td>\n",
              "      <td>-0.098497</td>\n",
              "      <td>Union Street, The Borough</td>\n",
              "    </tr>\n",
              "    <tr>\n",
              "      <th>772</th>\n",
              "      <td>197</td>\n",
              "      <td>27</td>\n",
              "      <td>51.505569</td>\n",
              "      <td>-0.111606</td>\n",
              "      <td>Stamford Street, South Bank</td>\n",
              "    </tr>\n",
              "  </tbody>\n",
              "</table>\n",
              "<p>773 rows × 5 columns</p>\n",
              "</div>\n",
              "      <button class=\"colab-df-convert\" onclick=\"convertToInteractive('df-2d1de6e4-c912-47c0-9c6e-6a3015746c81')\"\n",
              "              title=\"Convert this dataframe to an interactive table.\"\n",
              "              style=\"display:none;\">\n",
              "        \n",
              "  <svg xmlns=\"http://www.w3.org/2000/svg\" height=\"24px\"viewBox=\"0 0 24 24\"\n",
              "       width=\"24px\">\n",
              "    <path d=\"M0 0h24v24H0V0z\" fill=\"none\"/>\n",
              "    <path d=\"M18.56 5.44l.94 2.06.94-2.06 2.06-.94-2.06-.94-.94-2.06-.94 2.06-2.06.94zm-11 1L8.5 8.5l.94-2.06 2.06-.94-2.06-.94L8.5 2.5l-.94 2.06-2.06.94zm10 10l.94 2.06.94-2.06 2.06-.94-2.06-.94-.94-2.06-.94 2.06-2.06.94z\"/><path d=\"M17.41 7.96l-1.37-1.37c-.4-.4-.92-.59-1.43-.59-.52 0-1.04.2-1.43.59L10.3 9.45l-7.72 7.72c-.78.78-.78 2.05 0 2.83L4 21.41c.39.39.9.59 1.41.59.51 0 1.02-.2 1.41-.59l7.78-7.78 2.81-2.81c.8-.78.8-2.07 0-2.86zM5.41 20L4 18.59l7.72-7.72 1.47 1.35L5.41 20z\"/>\n",
              "  </svg>\n",
              "      </button>\n",
              "      \n",
              "  <style>\n",
              "    .colab-df-container {\n",
              "      display:flex;\n",
              "      flex-wrap:wrap;\n",
              "      gap: 12px;\n",
              "    }\n",
              "\n",
              "    .colab-df-convert {\n",
              "      background-color: #E8F0FE;\n",
              "      border: none;\n",
              "      border-radius: 50%;\n",
              "      cursor: pointer;\n",
              "      display: none;\n",
              "      fill: #1967D2;\n",
              "      height: 32px;\n",
              "      padding: 0 0 0 0;\n",
              "      width: 32px;\n",
              "    }\n",
              "\n",
              "    .colab-df-convert:hover {\n",
              "      background-color: #E2EBFA;\n",
              "      box-shadow: 0px 1px 2px rgba(60, 64, 67, 0.3), 0px 1px 3px 1px rgba(60, 64, 67, 0.15);\n",
              "      fill: #174EA6;\n",
              "    }\n",
              "\n",
              "    [theme=dark] .colab-df-convert {\n",
              "      background-color: #3B4455;\n",
              "      fill: #D2E3FC;\n",
              "    }\n",
              "\n",
              "    [theme=dark] .colab-df-convert:hover {\n",
              "      background-color: #434B5C;\n",
              "      box-shadow: 0px 1px 3px 1px rgba(0, 0, 0, 0.15);\n",
              "      filter: drop-shadow(0px 1px 2px rgba(0, 0, 0, 0.3));\n",
              "      fill: #FFFFFF;\n",
              "    }\n",
              "  </style>\n",
              "\n",
              "      <script>\n",
              "        const buttonEl =\n",
              "          document.querySelector('#df-2d1de6e4-c912-47c0-9c6e-6a3015746c81 button.colab-df-convert');\n",
              "        buttonEl.style.display =\n",
              "          google.colab.kernel.accessAllowed ? 'block' : 'none';\n",
              "\n",
              "        async function convertToInteractive(key) {\n",
              "          const element = document.querySelector('#df-2d1de6e4-c912-47c0-9c6e-6a3015746c81');\n",
              "          const dataTable =\n",
              "            await google.colab.kernel.invokeFunction('convertToInteractive',\n",
              "                                                     [key], {});\n",
              "          if (!dataTable) return;\n",
              "\n",
              "          const docLinkHtml = 'Like what you see? Visit the ' +\n",
              "            '<a target=\"_blank\" href=https://colab.research.google.com/notebooks/data_table.ipynb>data table notebook</a>'\n",
              "            + ' to learn more about interactive tables.';\n",
              "          element.innerHTML = '';\n",
              "          dataTable['output_type'] = 'display_data';\n",
              "          await google.colab.output.renderOutput(dataTable, element);\n",
              "          const docLink = document.createElement('div');\n",
              "          docLink.innerHTML = docLinkHtml;\n",
              "          element.appendChild(docLink);\n",
              "        }\n",
              "      </script>\n",
              "    </div>\n",
              "  </div>\n",
              "  "
            ]
          },
          "metadata": {},
          "execution_count": 6
        }
      ]
    },
    {
      "cell_type": "markdown",
      "source": [
        "I can already see that the Station ID can is a foreign key between bike stations and bike journeys. I am expecting to use a join to get all the data in one flat table."
      ],
      "metadata": {
        "id": "kc6AImYtfBqs"
      }
    },
    {
      "cell_type": "code",
      "source": [
        "bike_stations.dtypes"
      ],
      "metadata": {
        "id": "u7jQ5GO-kvA5",
        "colab": {
          "base_uri": "https://localhost:8080/"
        },
        "outputId": "45c4d063-1f80-45c3-f607-e7e22765c512"
      },
      "execution_count": 7,
      "outputs": [
        {
          "output_type": "execute_result",
          "data": {
            "text/plain": [
              "Station ID        int64\n",
              "Capacity          int64\n",
              "Latitude        float64\n",
              "Longitude       float64\n",
              "Station Name     object\n",
              "dtype: object"
            ]
          },
          "metadata": {},
          "execution_count": 7
        }
      ]
    },
    {
      "cell_type": "markdown",
      "source": [
        "### Weather"
      ],
      "metadata": {
        "id": "U_EnJ5lVjYrH"
      }
    },
    {
      "cell_type": "code",
      "source": [
        "weather.head()"
      ],
      "metadata": {
        "colab": {
          "base_uri": "https://localhost:8080/",
          "height": 206
        },
        "id": "SCfMPuGcimcd",
        "outputId": "bc85c458-6995-4c6a-9d69-3ce07d442606"
      },
      "execution_count": 8,
      "outputs": [
        {
          "output_type": "execute_result",
          "data": {
            "text/plain": [
              "   LATITUDE  LONGITUDE        DATE  PRCP (MM)  TAVG (CELSIUS)\n",
              "0    51.478     -0.461  01/08/2017        0.0            17.1\n",
              "1    51.478     -0.461  02/08/2017        0.8            16.8\n",
              "2    51.478     -0.461  03/08/2017        7.1            18.4\n",
              "3    51.478     -0.461  04/08/2017        0.0            18.3\n",
              "4    51.478     -0.461  05/08/2017        0.0            16.8"
            ],
            "text/html": [
              "\n",
              "  <div id=\"df-25233058-8eed-4e6f-86c8-e9a0ae84f803\">\n",
              "    <div class=\"colab-df-container\">\n",
              "      <div>\n",
              "<style scoped>\n",
              "    .dataframe tbody tr th:only-of-type {\n",
              "        vertical-align: middle;\n",
              "    }\n",
              "\n",
              "    .dataframe tbody tr th {\n",
              "        vertical-align: top;\n",
              "    }\n",
              "\n",
              "    .dataframe thead th {\n",
              "        text-align: right;\n",
              "    }\n",
              "</style>\n",
              "<table border=\"1\" class=\"dataframe\">\n",
              "  <thead>\n",
              "    <tr style=\"text-align: right;\">\n",
              "      <th></th>\n",
              "      <th>LATITUDE</th>\n",
              "      <th>LONGITUDE</th>\n",
              "      <th>DATE</th>\n",
              "      <th>PRCP (MM)</th>\n",
              "      <th>TAVG (CELSIUS)</th>\n",
              "    </tr>\n",
              "  </thead>\n",
              "  <tbody>\n",
              "    <tr>\n",
              "      <th>0</th>\n",
              "      <td>51.478</td>\n",
              "      <td>-0.461</td>\n",
              "      <td>01/08/2017</td>\n",
              "      <td>0.0</td>\n",
              "      <td>17.1</td>\n",
              "    </tr>\n",
              "    <tr>\n",
              "      <th>1</th>\n",
              "      <td>51.478</td>\n",
              "      <td>-0.461</td>\n",
              "      <td>02/08/2017</td>\n",
              "      <td>0.8</td>\n",
              "      <td>16.8</td>\n",
              "    </tr>\n",
              "    <tr>\n",
              "      <th>2</th>\n",
              "      <td>51.478</td>\n",
              "      <td>-0.461</td>\n",
              "      <td>03/08/2017</td>\n",
              "      <td>7.1</td>\n",
              "      <td>18.4</td>\n",
              "    </tr>\n",
              "    <tr>\n",
              "      <th>3</th>\n",
              "      <td>51.478</td>\n",
              "      <td>-0.461</td>\n",
              "      <td>04/08/2017</td>\n",
              "      <td>0.0</td>\n",
              "      <td>18.3</td>\n",
              "    </tr>\n",
              "    <tr>\n",
              "      <th>4</th>\n",
              "      <td>51.478</td>\n",
              "      <td>-0.461</td>\n",
              "      <td>05/08/2017</td>\n",
              "      <td>0.0</td>\n",
              "      <td>16.8</td>\n",
              "    </tr>\n",
              "  </tbody>\n",
              "</table>\n",
              "</div>\n",
              "      <button class=\"colab-df-convert\" onclick=\"convertToInteractive('df-25233058-8eed-4e6f-86c8-e9a0ae84f803')\"\n",
              "              title=\"Convert this dataframe to an interactive table.\"\n",
              "              style=\"display:none;\">\n",
              "        \n",
              "  <svg xmlns=\"http://www.w3.org/2000/svg\" height=\"24px\"viewBox=\"0 0 24 24\"\n",
              "       width=\"24px\">\n",
              "    <path d=\"M0 0h24v24H0V0z\" fill=\"none\"/>\n",
              "    <path d=\"M18.56 5.44l.94 2.06.94-2.06 2.06-.94-2.06-.94-.94-2.06-.94 2.06-2.06.94zm-11 1L8.5 8.5l.94-2.06 2.06-.94-2.06-.94L8.5 2.5l-.94 2.06-2.06.94zm10 10l.94 2.06.94-2.06 2.06-.94-2.06-.94-.94-2.06-.94 2.06-2.06.94z\"/><path d=\"M17.41 7.96l-1.37-1.37c-.4-.4-.92-.59-1.43-.59-.52 0-1.04.2-1.43.59L10.3 9.45l-7.72 7.72c-.78.78-.78 2.05 0 2.83L4 21.41c.39.39.9.59 1.41.59.51 0 1.02-.2 1.41-.59l7.78-7.78 2.81-2.81c.8-.78.8-2.07 0-2.86zM5.41 20L4 18.59l7.72-7.72 1.47 1.35L5.41 20z\"/>\n",
              "  </svg>\n",
              "      </button>\n",
              "      \n",
              "  <style>\n",
              "    .colab-df-container {\n",
              "      display:flex;\n",
              "      flex-wrap:wrap;\n",
              "      gap: 12px;\n",
              "    }\n",
              "\n",
              "    .colab-df-convert {\n",
              "      background-color: #E8F0FE;\n",
              "      border: none;\n",
              "      border-radius: 50%;\n",
              "      cursor: pointer;\n",
              "      display: none;\n",
              "      fill: #1967D2;\n",
              "      height: 32px;\n",
              "      padding: 0 0 0 0;\n",
              "      width: 32px;\n",
              "    }\n",
              "\n",
              "    .colab-df-convert:hover {\n",
              "      background-color: #E2EBFA;\n",
              "      box-shadow: 0px 1px 2px rgba(60, 64, 67, 0.3), 0px 1px 3px 1px rgba(60, 64, 67, 0.15);\n",
              "      fill: #174EA6;\n",
              "    }\n",
              "\n",
              "    [theme=dark] .colab-df-convert {\n",
              "      background-color: #3B4455;\n",
              "      fill: #D2E3FC;\n",
              "    }\n",
              "\n",
              "    [theme=dark] .colab-df-convert:hover {\n",
              "      background-color: #434B5C;\n",
              "      box-shadow: 0px 1px 3px 1px rgba(0, 0, 0, 0.15);\n",
              "      filter: drop-shadow(0px 1px 2px rgba(0, 0, 0, 0.3));\n",
              "      fill: #FFFFFF;\n",
              "    }\n",
              "  </style>\n",
              "\n",
              "      <script>\n",
              "        const buttonEl =\n",
              "          document.querySelector('#df-25233058-8eed-4e6f-86c8-e9a0ae84f803 button.colab-df-convert');\n",
              "        buttonEl.style.display =\n",
              "          google.colab.kernel.accessAllowed ? 'block' : 'none';\n",
              "\n",
              "        async function convertToInteractive(key) {\n",
              "          const element = document.querySelector('#df-25233058-8eed-4e6f-86c8-e9a0ae84f803');\n",
              "          const dataTable =\n",
              "            await google.colab.kernel.invokeFunction('convertToInteractive',\n",
              "                                                     [key], {});\n",
              "          if (!dataTable) return;\n",
              "\n",
              "          const docLinkHtml = 'Like what you see? Visit the ' +\n",
              "            '<a target=\"_blank\" href=https://colab.research.google.com/notebooks/data_table.ipynb>data table notebook</a>'\n",
              "            + ' to learn more about interactive tables.';\n",
              "          element.innerHTML = '';\n",
              "          dataTable['output_type'] = 'display_data';\n",
              "          await google.colab.output.renderOutput(dataTable, element);\n",
              "          const docLink = document.createElement('div');\n",
              "          docLink.innerHTML = docLinkHtml;\n",
              "          element.appendChild(docLink);\n",
              "        }\n",
              "      </script>\n",
              "    </div>\n",
              "  </div>\n",
              "  "
            ]
          },
          "metadata": {},
          "execution_count": 8
        }
      ]
    },
    {
      "cell_type": "markdown",
      "source": [
        "The way the date is formated in this dataset differs from the bike journeys data set so this will have to be changed so I can join these datasets. Also this dataset includes dates from august when all of the bike journeys take place in september so that will be omitted as it is not needed. Also, this data only tells of the weather in one area and tells us the precipitation and temperature for the day not detailing wether it was the average or the highest respective values for that day and not giving specific times."
      ],
      "metadata": {
        "id": "acgeHilAfey6"
      }
    },
    {
      "cell_type": "code",
      "source": [
        "weather.dtypes"
      ],
      "metadata": {
        "id": "RXZp76Lok_hv",
        "colab": {
          "base_uri": "https://localhost:8080/"
        },
        "outputId": "add69552-b3be-47a3-cb6f-50f292b4df97"
      },
      "execution_count": 9,
      "outputs": [
        {
          "output_type": "execute_result",
          "data": {
            "text/plain": [
              "LATITUDE          float64\n",
              "LONGITUDE         float64\n",
              "DATE               object\n",
              "PRCP (MM)         float64\n",
              "TAVG (CELSIUS)    float64\n",
              "dtype: object"
            ]
          },
          "metadata": {},
          "execution_count": 9
        }
      ]
    },
    {
      "cell_type": "markdown",
      "source": [
        "## Prepare"
      ],
      "metadata": {
        "id": "OIdV5MmVgzJX"
      }
    },
    {
      "cell_type": "code",
      "source": [
        "# The use of these 2 methods together checks if there are missing values in any of the columns\n",
        "bike_journeys.isnull().any() "
      ],
      "metadata": {
        "id": "inhMtlA6iZaI",
        "colab": {
          "base_uri": "https://localhost:8080/"
        },
        "outputId": "864cec78-31ea-4e2d-c534-dc0bface592f"
      },
      "execution_count": 10,
      "outputs": [
        {
          "output_type": "execute_result",
          "data": {
            "text/plain": [
              "Journey Duration    False\n",
              "Journey ID          False\n",
              "End Date            False\n",
              "End Month           False\n",
              "End Year            False\n",
              "End Hour            False\n",
              "End Minute          False\n",
              "End Station ID      False\n",
              "Start Date          False\n",
              "Start Month         False\n",
              "Start Year          False\n",
              "Start Hour          False\n",
              "Start Minute        False\n",
              "Start Station ID    False\n",
              "dtype: bool"
            ]
          },
          "metadata": {},
          "execution_count": 10
        }
      ]
    },
    {
      "cell_type": "markdown",
      "source": [
        "Initally I want to check if there are any missing data in any of the columns since it could most probably be lowering the data quality. However, other alternatives to just droping the rows of data could be looked into.Depending on factors such as where the missing data lies (e.g, if the station ID's are missing that is major factor for the outcomes but if the start hour is missing but there is still the journey duration the data could be filled.) this also depends on how much missing data there is could tell me if it worth going through these changes."
      ],
      "metadata": {
        "id": "gVLgiI20mwVC"
      }
    },
    {
      "cell_type": "code",
      "source": [
        "bike_stations.isnull().any()"
      ],
      "metadata": {
        "id": "aIxqWB-2mnZ8",
        "colab": {
          "base_uri": "https://localhost:8080/"
        },
        "outputId": "11ecd76b-c157-4475-838b-ed852042f97a"
      },
      "execution_count": 11,
      "outputs": [
        {
          "output_type": "execute_result",
          "data": {
            "text/plain": [
              "Station ID      False\n",
              "Capacity        False\n",
              "Latitude        False\n",
              "Longitude       False\n",
              "Station Name    False\n",
              "dtype: bool"
            ]
          },
          "metadata": {},
          "execution_count": 11
        }
      ]
    },
    {
      "cell_type": "code",
      "source": [
        "weather.isnull().any()"
      ],
      "metadata": {
        "id": "Jeg514V5mrpE",
        "colab": {
          "base_uri": "https://localhost:8080/"
        },
        "outputId": "76f4f038-aaed-4328-a106-21753e1d4557"
      },
      "execution_count": 12,
      "outputs": [
        {
          "output_type": "execute_result",
          "data": {
            "text/plain": [
              "LATITUDE          False\n",
              "LONGITUDE         False\n",
              "DATE              False\n",
              "PRCP (MM)         False\n",
              "TAVG (CELSIUS)    False\n",
              "dtype: bool"
            ]
          },
          "metadata": {},
          "execution_count": 12
        }
      ]
    },
    {
      "cell_type": "markdown",
      "source": [
        "I want to join the all datasets into oneto have all the data in one flat table so I can use statistical and visualise methods seamlessly. I know that to join the bike stations and journey ID i can join them through the station ID's. The weather dataset does not have an explicit column I can use to join. A merge using pandas is posible but the query flexibility and speed of SQL joins will be more useful in the circumstanc.\n",
        "\n",
        "I write a SQL script in the sqlite3 interface that turns the date columns into the date format DD/MM/YYYY and drop the columns that are now uneccessary. Also if I am formatting the date it would make the data more clean to format the times also.\n",
        "\n",
        "\n",
        "\n",
        "\n",
        "**Adds the columns to the table**\n",
        "```\n",
        "ALTER TABLE bike_journeys_formatted ADD COLUMN formatted_start_date TEXT;\n",
        "ALTER TABLE bike_journeys_formatted ADD COLUMN formatted_end_date TEXT;\n",
        "ALTER TABLE bike_journeys_formatted ADD COLUMN start_time TEXT;\n",
        "ALTER TABLE bike_journeys_formatted ADD COLUMN end_time TEXT;\n",
        "```\n",
        "\n",
        "\n",
        "\n",
        "**This uses the columns to make the date in the DD/MM/YYYY format and if the month or date is a single character it adds 0 to the front. 2000 is added to the year to fit the format.**\n",
        "```\n",
        "UPDATE bike_journeys_formatted\n",
        "SET formatted_start_date = CASE\n",
        "  WHEN LENGTH(\"Start Date\") = 1 AND LENGTH(\"Start Month\") = 1 THEN '0'||\"Start Date\"||'/0'||\"Start Month\"||'/'||(\"Start Year\"+2000)\n",
        "  WHEN LENGTH(\"Start Date\") = 1 THEN '0'||\"Start Date\"||'/'||\"Start Month\"||'/'||(\"Start Year\"+2000)\n",
        "  WHEN LENGTH(\"Start Month\") = 1 THEN \"Start Date\"||'/0'||\"Start Month\"||'/'||(\"Start Year\"+2000)\n",
        "  ELSE \"Start Date\"||'/'||\"Start Month\"||'/'||(\"Start Year\"+2000)\n",
        "END,\n",
        "formatted_end_date = CASE\n",
        "  WHEN LENGTH(\"End Date\") = 1 AND LENGTH(\"End Month\") = 1 THEN '0'||\"End Date\"||'/0'||\"End Month\"||'/'||(\"End Year\"+2000)\n",
        "  WHEN LENGTH(\"End Date\") = 1 THEN '0'||\"End Date\"||'/'||\"End Month\"||'/'||(\"End Year\"+2000)\n",
        "  WHEN LENGTH(\"End Month\") = 1 THEN \"End Date\"||'/0'||\"End Month\"||'/'||(\"End Year\"+2000)\n",
        "  ELSE \"End Date\"||'/'||\"End Month\"||'/'||(\"End Year\"+2000)\n",
        "END;\n",
        "\n",
        "```\n",
        "**The times are formatted to HH:MM using the respective Hour and Minute columns**\n",
        "\n",
        "\n",
        "\n",
        "```\n",
        "# UPDATE bike_journeys_formatted\n",
        "SET end_time = CASE\n",
        "                WHEN \"End Hour\" < 10 THEN '0'||\"End Hour\"\n",
        "                ELSE \"End Hour\"\n",
        "              END\n",
        "              || ':'\n",
        "              || CASE\n",
        "                   WHEN \"End Minute\" < 10 THEN '0'||\"End Minute\"\n",
        "                   ELSE \"End Minute\"\n",
        "                 END,\n",
        "    start_time = CASE\n",
        "                  WHEN \"Start Hour\" < 10 THEN '0'||\"Start Hour\"\n",
        "                  ELSE \"Start Hour\"\n",
        "                END\n",
        "                || ':'\n",
        "                || CASE\n",
        "                     WHEN \"Start Minute\" < 10 THEN '0'||\"Start Minute\"\n",
        "                     ELSE \"Start Minute\"\n",
        "                   END;\n",
        "```\n",
        "\n",
        "\n",
        "\n",
        "\n",
        "\n",
        "\n",
        "\n",
        "**Then the old columns are dropped**\n",
        "\n",
        "```\n",
        "ALTER TABLE bike_journeys_formatted\n",
        "DROP COLUMN \"End Date\";\n",
        "ALTER TABLE bike_journeys_formatted\n",
        "DROP COLUMN \"End Month\";\n",
        "ALTER TABLE bike_journeys_formatted\n",
        "DROP COLUMN \"End Year\";\n",
        "ALTER TABLE bike_journeys_formatted\n",
        "DROP COLUMN \"Start Date\";\n",
        "ALTER TABLE bike_journeys_formatted\n",
        "DROP COLUMN \"Start Month\";\n",
        "ALTER TABLE bike_journeys_formatted\n",
        "DROP COLUMN \"Start Year\";\n",
        "ALTER TABLE bike_journeys_formatted\n",
        "DROP COLUMN \"End Hour\";\n",
        "ALTER TABLE bike_journeys_formatted\n",
        "DROP COLUMN \"End Minute\";\n",
        "ALTER TABLE bike_journeys_formatted\n",
        "DROP COLUMN \"Start Hour\";\n",
        "ALTER TABLE bike_journeys_formatted\n",
        "DROP COLUMN \"Start Minute\";\n",
        "```\n",
        "\n",
        "\n",
        "\n",
        "\n",
        "\n",
        "\n",
        "\n"
      ],
      "metadata": {
        "id": "52nVgEDEuA8i"
      }
    },
    {
      "cell_type": "code",
      "source": [
        "# Check the row where the weather has the exact same latitude and logitude as the weather coordinates \n",
        "pd.read_sql('''SELECT * \n",
        "                FROM bike_stations\n",
        "                WHERE [Latitude] = \"51.478\" AND [Longitude] = \"-0.461\"\n",
        "                ;''', conn) "
      ],
      "metadata": {
        "colab": {
          "base_uri": "https://localhost:8080/",
          "height": 49
        },
        "id": "cTMQlivgyGS1",
        "outputId": "cba7d845-64af-46dd-871a-2e8c04589106"
      },
      "execution_count": 13,
      "outputs": [
        {
          "output_type": "execute_result",
          "data": {
            "text/plain": [
              "Empty DataFrame\n",
              "Columns: [Station ID, Capacity, Latitude, Longitude, Station Name]\n",
              "Index: []"
            ],
            "text/html": [
              "\n",
              "  <div id=\"df-14d9b0f3-dd68-468c-a5ca-e4293d803b46\">\n",
              "    <div class=\"colab-df-container\">\n",
              "      <div>\n",
              "<style scoped>\n",
              "    .dataframe tbody tr th:only-of-type {\n",
              "        vertical-align: middle;\n",
              "    }\n",
              "\n",
              "    .dataframe tbody tr th {\n",
              "        vertical-align: top;\n",
              "    }\n",
              "\n",
              "    .dataframe thead th {\n",
              "        text-align: right;\n",
              "    }\n",
              "</style>\n",
              "<table border=\"1\" class=\"dataframe\">\n",
              "  <thead>\n",
              "    <tr style=\"text-align: right;\">\n",
              "      <th></th>\n",
              "      <th>Station ID</th>\n",
              "      <th>Capacity</th>\n",
              "      <th>Latitude</th>\n",
              "      <th>Longitude</th>\n",
              "      <th>Station Name</th>\n",
              "    </tr>\n",
              "  </thead>\n",
              "  <tbody>\n",
              "  </tbody>\n",
              "</table>\n",
              "</div>\n",
              "      <button class=\"colab-df-convert\" onclick=\"convertToInteractive('df-14d9b0f3-dd68-468c-a5ca-e4293d803b46')\"\n",
              "              title=\"Convert this dataframe to an interactive table.\"\n",
              "              style=\"display:none;\">\n",
              "        \n",
              "  <svg xmlns=\"http://www.w3.org/2000/svg\" height=\"24px\"viewBox=\"0 0 24 24\"\n",
              "       width=\"24px\">\n",
              "    <path d=\"M0 0h24v24H0V0z\" fill=\"none\"/>\n",
              "    <path d=\"M18.56 5.44l.94 2.06.94-2.06 2.06-.94-2.06-.94-.94-2.06-.94 2.06-2.06.94zm-11 1L8.5 8.5l.94-2.06 2.06-.94-2.06-.94L8.5 2.5l-.94 2.06-2.06.94zm10 10l.94 2.06.94-2.06 2.06-.94-2.06-.94-.94-2.06-.94 2.06-2.06.94z\"/><path d=\"M17.41 7.96l-1.37-1.37c-.4-.4-.92-.59-1.43-.59-.52 0-1.04.2-1.43.59L10.3 9.45l-7.72 7.72c-.78.78-.78 2.05 0 2.83L4 21.41c.39.39.9.59 1.41.59.51 0 1.02-.2 1.41-.59l7.78-7.78 2.81-2.81c.8-.78.8-2.07 0-2.86zM5.41 20L4 18.59l7.72-7.72 1.47 1.35L5.41 20z\"/>\n",
              "  </svg>\n",
              "      </button>\n",
              "      \n",
              "  <style>\n",
              "    .colab-df-container {\n",
              "      display:flex;\n",
              "      flex-wrap:wrap;\n",
              "      gap: 12px;\n",
              "    }\n",
              "\n",
              "    .colab-df-convert {\n",
              "      background-color: #E8F0FE;\n",
              "      border: none;\n",
              "      border-radius: 50%;\n",
              "      cursor: pointer;\n",
              "      display: none;\n",
              "      fill: #1967D2;\n",
              "      height: 32px;\n",
              "      padding: 0 0 0 0;\n",
              "      width: 32px;\n",
              "    }\n",
              "\n",
              "    .colab-df-convert:hover {\n",
              "      background-color: #E2EBFA;\n",
              "      box-shadow: 0px 1px 2px rgba(60, 64, 67, 0.3), 0px 1px 3px 1px rgba(60, 64, 67, 0.15);\n",
              "      fill: #174EA6;\n",
              "    }\n",
              "\n",
              "    [theme=dark] .colab-df-convert {\n",
              "      background-color: #3B4455;\n",
              "      fill: #D2E3FC;\n",
              "    }\n",
              "\n",
              "    [theme=dark] .colab-df-convert:hover {\n",
              "      background-color: #434B5C;\n",
              "      box-shadow: 0px 1px 3px 1px rgba(0, 0, 0, 0.15);\n",
              "      filter: drop-shadow(0px 1px 2px rgba(0, 0, 0, 0.3));\n",
              "      fill: #FFFFFF;\n",
              "    }\n",
              "  </style>\n",
              "\n",
              "      <script>\n",
              "        const buttonEl =\n",
              "          document.querySelector('#df-14d9b0f3-dd68-468c-a5ca-e4293d803b46 button.colab-df-convert');\n",
              "        buttonEl.style.display =\n",
              "          google.colab.kernel.accessAllowed ? 'block' : 'none';\n",
              "\n",
              "        async function convertToInteractive(key) {\n",
              "          const element = document.querySelector('#df-14d9b0f3-dd68-468c-a5ca-e4293d803b46');\n",
              "          const dataTable =\n",
              "            await google.colab.kernel.invokeFunction('convertToInteractive',\n",
              "                                                     [key], {});\n",
              "          if (!dataTable) return;\n",
              "\n",
              "          const docLinkHtml = 'Like what you see? Visit the ' +\n",
              "            '<a target=\"_blank\" href=https://colab.research.google.com/notebooks/data_table.ipynb>data table notebook</a>'\n",
              "            + ' to learn more about interactive tables.';\n",
              "          element.innerHTML = '';\n",
              "          dataTable['output_type'] = 'display_data';\n",
              "          await google.colab.output.renderOutput(dataTable, element);\n",
              "          const docLink = document.createElement('div');\n",
              "          docLink.innerHTML = docLinkHtml;\n",
              "          element.appendChild(docLink);\n",
              "        }\n",
              "      </script>\n",
              "    </div>\n",
              "  </div>\n",
              "  "
            ]
          },
          "metadata": {},
          "execution_count": 13
        }
      ]
    },
    {
      "cell_type": "markdown",
      "source": [
        "There is no row with this exact latitdue and logitude so I have to check how close the nearest station is to this point and if the distance is large enough to disregard the weather data. "
      ],
      "metadata": {
        "id": "FDlmU6FjyaNx"
      }
    },
    {
      "cell_type": "code",
      "source": [
        "# This query shows orders the closest station to the furtherst station from the given longitude and latitude \n",
        "pd.read_sql('''SELECT *\n",
        "                FROM bike_stations\n",
        "                ORDER BY ABS([Latitude] - 51.478) + ABS([Longitude] + 0.461)\n",
        "                ;''', conn)\n"
      ],
      "metadata": {
        "colab": {
          "base_uri": "https://localhost:8080/",
          "height": 424
        },
        "id": "f2kUmzvToWrQ",
        "outputId": "623d4b1f-4181-4ef8-db1e-7a93df2ed101"
      },
      "execution_count": 14,
      "outputs": [
        {
          "output_type": "execute_result",
          "data": {
            "text/plain": [
              "     Station ID  Capacity   Latitude  Longitude  \\\n",
              "0           668        26  51.494223  -0.236769   \n",
              "1           753        28  51.492636  -0.234094   \n",
              "2           644        36  51.483732  -0.223852   \n",
              "3           682        46  51.488108  -0.226606   \n",
              "4           599        28  51.485743  -0.223616   \n",
              "..          ...       ...        ...        ...   \n",
              "768         785        64  51.540940  -0.010510   \n",
              "769         787        35  51.546805  -0.014691   \n",
              "770         786        44  51.549369  -0.015717   \n",
              "771         784        34  51.546326  -0.009935   \n",
              "772         790        28  51.541793  -0.004810   \n",
              "\n",
              "                                          Station Name  \n",
              "0                Ravenscourt Park Station, Hammersmith  \n",
              "1                   Hammersmith Town Hall, Hammersmith  \n",
              "2                          Rainville Road, Hammersmith  \n",
              "3                              Crisp Road, Hammersmith  \n",
              "4                             Manbre Road, Hammersmith  \n",
              "..                                                 ...  \n",
              "768       Aquatic Centre, Queen Elizabeth Olympic Park  \n",
              "769         Timber Lodge, Queen Elizabeth Olympic Park  \n",
              "770  Lee Valley VeloPark, Queen Elizabeth Olympic Park  \n",
              "771         East Village, Queen Elizabeth Olympic Park  \n",
              "772                       Stratford Station, Stratford  \n",
              "\n",
              "[773 rows x 5 columns]"
            ],
            "text/html": [
              "\n",
              "  <div id=\"df-2644fe94-d92b-4e1a-8e93-254033cbeb6a\">\n",
              "    <div class=\"colab-df-container\">\n",
              "      <div>\n",
              "<style scoped>\n",
              "    .dataframe tbody tr th:only-of-type {\n",
              "        vertical-align: middle;\n",
              "    }\n",
              "\n",
              "    .dataframe tbody tr th {\n",
              "        vertical-align: top;\n",
              "    }\n",
              "\n",
              "    .dataframe thead th {\n",
              "        text-align: right;\n",
              "    }\n",
              "</style>\n",
              "<table border=\"1\" class=\"dataframe\">\n",
              "  <thead>\n",
              "    <tr style=\"text-align: right;\">\n",
              "      <th></th>\n",
              "      <th>Station ID</th>\n",
              "      <th>Capacity</th>\n",
              "      <th>Latitude</th>\n",
              "      <th>Longitude</th>\n",
              "      <th>Station Name</th>\n",
              "    </tr>\n",
              "  </thead>\n",
              "  <tbody>\n",
              "    <tr>\n",
              "      <th>0</th>\n",
              "      <td>668</td>\n",
              "      <td>26</td>\n",
              "      <td>51.494223</td>\n",
              "      <td>-0.236769</td>\n",
              "      <td>Ravenscourt Park Station, Hammersmith</td>\n",
              "    </tr>\n",
              "    <tr>\n",
              "      <th>1</th>\n",
              "      <td>753</td>\n",
              "      <td>28</td>\n",
              "      <td>51.492636</td>\n",
              "      <td>-0.234094</td>\n",
              "      <td>Hammersmith Town Hall, Hammersmith</td>\n",
              "    </tr>\n",
              "    <tr>\n",
              "      <th>2</th>\n",
              "      <td>644</td>\n",
              "      <td>36</td>\n",
              "      <td>51.483732</td>\n",
              "      <td>-0.223852</td>\n",
              "      <td>Rainville Road, Hammersmith</td>\n",
              "    </tr>\n",
              "    <tr>\n",
              "      <th>3</th>\n",
              "      <td>682</td>\n",
              "      <td>46</td>\n",
              "      <td>51.488108</td>\n",
              "      <td>-0.226606</td>\n",
              "      <td>Crisp Road, Hammersmith</td>\n",
              "    </tr>\n",
              "    <tr>\n",
              "      <th>4</th>\n",
              "      <td>599</td>\n",
              "      <td>28</td>\n",
              "      <td>51.485743</td>\n",
              "      <td>-0.223616</td>\n",
              "      <td>Manbre Road, Hammersmith</td>\n",
              "    </tr>\n",
              "    <tr>\n",
              "      <th>...</th>\n",
              "      <td>...</td>\n",
              "      <td>...</td>\n",
              "      <td>...</td>\n",
              "      <td>...</td>\n",
              "      <td>...</td>\n",
              "    </tr>\n",
              "    <tr>\n",
              "      <th>768</th>\n",
              "      <td>785</td>\n",
              "      <td>64</td>\n",
              "      <td>51.540940</td>\n",
              "      <td>-0.010510</td>\n",
              "      <td>Aquatic Centre, Queen Elizabeth Olympic Park</td>\n",
              "    </tr>\n",
              "    <tr>\n",
              "      <th>769</th>\n",
              "      <td>787</td>\n",
              "      <td>35</td>\n",
              "      <td>51.546805</td>\n",
              "      <td>-0.014691</td>\n",
              "      <td>Timber Lodge, Queen Elizabeth Olympic Park</td>\n",
              "    </tr>\n",
              "    <tr>\n",
              "      <th>770</th>\n",
              "      <td>786</td>\n",
              "      <td>44</td>\n",
              "      <td>51.549369</td>\n",
              "      <td>-0.015717</td>\n",
              "      <td>Lee Valley VeloPark, Queen Elizabeth Olympic Park</td>\n",
              "    </tr>\n",
              "    <tr>\n",
              "      <th>771</th>\n",
              "      <td>784</td>\n",
              "      <td>34</td>\n",
              "      <td>51.546326</td>\n",
              "      <td>-0.009935</td>\n",
              "      <td>East Village, Queen Elizabeth Olympic Park</td>\n",
              "    </tr>\n",
              "    <tr>\n",
              "      <th>772</th>\n",
              "      <td>790</td>\n",
              "      <td>28</td>\n",
              "      <td>51.541793</td>\n",
              "      <td>-0.004810</td>\n",
              "      <td>Stratford Station, Stratford</td>\n",
              "    </tr>\n",
              "  </tbody>\n",
              "</table>\n",
              "<p>773 rows × 5 columns</p>\n",
              "</div>\n",
              "      <button class=\"colab-df-convert\" onclick=\"convertToInteractive('df-2644fe94-d92b-4e1a-8e93-254033cbeb6a')\"\n",
              "              title=\"Convert this dataframe to an interactive table.\"\n",
              "              style=\"display:none;\">\n",
              "        \n",
              "  <svg xmlns=\"http://www.w3.org/2000/svg\" height=\"24px\"viewBox=\"0 0 24 24\"\n",
              "       width=\"24px\">\n",
              "    <path d=\"M0 0h24v24H0V0z\" fill=\"none\"/>\n",
              "    <path d=\"M18.56 5.44l.94 2.06.94-2.06 2.06-.94-2.06-.94-.94-2.06-.94 2.06-2.06.94zm-11 1L8.5 8.5l.94-2.06 2.06-.94-2.06-.94L8.5 2.5l-.94 2.06-2.06.94zm10 10l.94 2.06.94-2.06 2.06-.94-2.06-.94-.94-2.06-.94 2.06-2.06.94z\"/><path d=\"M17.41 7.96l-1.37-1.37c-.4-.4-.92-.59-1.43-.59-.52 0-1.04.2-1.43.59L10.3 9.45l-7.72 7.72c-.78.78-.78 2.05 0 2.83L4 21.41c.39.39.9.59 1.41.59.51 0 1.02-.2 1.41-.59l7.78-7.78 2.81-2.81c.8-.78.8-2.07 0-2.86zM5.41 20L4 18.59l7.72-7.72 1.47 1.35L5.41 20z\"/>\n",
              "  </svg>\n",
              "      </button>\n",
              "      \n",
              "  <style>\n",
              "    .colab-df-container {\n",
              "      display:flex;\n",
              "      flex-wrap:wrap;\n",
              "      gap: 12px;\n",
              "    }\n",
              "\n",
              "    .colab-df-convert {\n",
              "      background-color: #E8F0FE;\n",
              "      border: none;\n",
              "      border-radius: 50%;\n",
              "      cursor: pointer;\n",
              "      display: none;\n",
              "      fill: #1967D2;\n",
              "      height: 32px;\n",
              "      padding: 0 0 0 0;\n",
              "      width: 32px;\n",
              "    }\n",
              "\n",
              "    .colab-df-convert:hover {\n",
              "      background-color: #E2EBFA;\n",
              "      box-shadow: 0px 1px 2px rgba(60, 64, 67, 0.3), 0px 1px 3px 1px rgba(60, 64, 67, 0.15);\n",
              "      fill: #174EA6;\n",
              "    }\n",
              "\n",
              "    [theme=dark] .colab-df-convert {\n",
              "      background-color: #3B4455;\n",
              "      fill: #D2E3FC;\n",
              "    }\n",
              "\n",
              "    [theme=dark] .colab-df-convert:hover {\n",
              "      background-color: #434B5C;\n",
              "      box-shadow: 0px 1px 3px 1px rgba(0, 0, 0, 0.15);\n",
              "      filter: drop-shadow(0px 1px 2px rgba(0, 0, 0, 0.3));\n",
              "      fill: #FFFFFF;\n",
              "    }\n",
              "  </style>\n",
              "\n",
              "      <script>\n",
              "        const buttonEl =\n",
              "          document.querySelector('#df-2644fe94-d92b-4e1a-8e93-254033cbeb6a button.colab-df-convert');\n",
              "        buttonEl.style.display =\n",
              "          google.colab.kernel.accessAllowed ? 'block' : 'none';\n",
              "\n",
              "        async function convertToInteractive(key) {\n",
              "          const element = document.querySelector('#df-2644fe94-d92b-4e1a-8e93-254033cbeb6a');\n",
              "          const dataTable =\n",
              "            await google.colab.kernel.invokeFunction('convertToInteractive',\n",
              "                                                     [key], {});\n",
              "          if (!dataTable) return;\n",
              "\n",
              "          const docLinkHtml = 'Like what you see? Visit the ' +\n",
              "            '<a target=\"_blank\" href=https://colab.research.google.com/notebooks/data_table.ipynb>data table notebook</a>'\n",
              "            + ' to learn more about interactive tables.';\n",
              "          element.innerHTML = '';\n",
              "          dataTable['output_type'] = 'display_data';\n",
              "          await google.colab.output.renderOutput(dataTable, element);\n",
              "          const docLink = document.createElement('div');\n",
              "          docLink.innerHTML = docLinkHtml;\n",
              "          element.appendChild(docLink);\n",
              "        }\n",
              "      </script>\n",
              "    </div>\n",
              "  </div>\n",
              "  "
            ]
          },
          "metadata": {},
          "execution_count": 14
        }
      ]
    },
    {
      "cell_type": "markdown",
      "source": [
        "Using an online google maps I calculated the distance to the furthest station and the given longitude and latitude in the weather dataset (20.11 miles). This still falls under the london GPE so the weather could be taken under consideration with every journey. The time not being a part of of the date is still an issue."
      ],
      "metadata": {
        "id": "8l0EOQgf40CC"
      }
    },
    {
      "cell_type": "code",
      "source": [
        "#Joins all three datasets\n",
        "combined_data = pd.read_sql('''SELECT *\n",
        "                               FROM bike_journeys_formatted\n",
        "                               JOIN bike_stations ON bike_journeys_formatted.[Start Station ID] = bike_stations.[Station ID]\n",
        "                               JOIN weather ON bike_journeys_formatted.formatted_start_date = weather.DATE;\n",
        "                               ''', conn)\n",
        "# Removes irrelevant columns\n",
        "combined_data = combined_data.drop(columns=[\"DATE\", \"LONGITUDE\", \"LATITUDE\"])\n",
        "# Changes journey duration measurement from seconds to minutes\n",
        "combined_data['Journey Duration'] = combined_data['Journey Duration'] / 60\n",
        "# Turns columns to lowercase and use underscores instead of spaces\n",
        "combined_data.columns = [c.replace(' ', '_').lower() for c in combined_data.columns]\n",
        "combined_data"
      ],
      "metadata": {
        "colab": {
          "base_uri": "https://localhost:8080/",
          "height": 765
        },
        "id": "GrGZYa9L9fXl",
        "outputId": "fd606d93-3f68-4778-986c-f03d31de1d7a"
      },
      "execution_count": 19,
      "outputs": [
        {
          "output_type": "execute_result",
          "data": {
            "text/plain": [
              "         journey_duration  journey_id  end_station_id  start_station_id  \\\n",
              "0               20.000000       14659             605                36   \n",
              "1               15.000000        9923             298               154   \n",
              "2                8.000000        9642             194               156   \n",
              "3                8.000000       12668             194               156   \n",
              "4               11.000000        8907             368               307   \n",
              "...                   ...         ...             ...               ...   \n",
              "1353589          4.500000        5296              32                42   \n",
              "1353590         15.183333       12348             625               222   \n",
              "1353591          7.450000        8303             453               130   \n",
              "1353592          7.066667       12038             405               755   \n",
              "1353593          5.116667        4590              77                25   \n",
              "\n",
              "        formatted_start_date formatted_end_date start_time end_time  \\\n",
              "0                 13/09/2017         13/09/2017      19:13    19:33   \n",
              "1                 13/09/2017         13/09/2017      08:17    08:32   \n",
              "2                 13/09/2017         13/09/2017      15:23    15:31   \n",
              "3                 13/09/2017         13/09/2017      15:23    15:31   \n",
              "4                 13/09/2017         13/09/2017      08:31    08:42   \n",
              "...                      ...                ...        ...      ...   \n",
              "1353589           07/08/2017         08/08/2017      23:58    00:02   \n",
              "1353590           07/08/2017         08/08/2017      23:58    00:13   \n",
              "1353591           07/08/2017         08/08/2017      23:59    00:07   \n",
              "1353592           07/08/2017         08/08/2017      23:59    00:06   \n",
              "1353593           07/08/2017         08/08/2017      23:59    00:04   \n",
              "\n",
              "         station_id  capacity   latitude  longitude  \\\n",
              "0                36        28  51.501737  -0.184980   \n",
              "1               154        35  51.503791  -0.112824   \n",
              "2               156        33  51.494436  -0.092921   \n",
              "3               156        33  51.494436  -0.092921   \n",
              "4               307        24  51.509908  -0.187842   \n",
              "...             ...       ...        ...        ...   \n",
              "1353589          42        28  51.530991  -0.093903   \n",
              "1353590         222        43  51.502757  -0.155349   \n",
              "1353591         130        24  51.509506  -0.075459   \n",
              "1353592         755        24  51.485121  -0.174971   \n",
              "1353593          25        32  51.528833  -0.132250   \n",
              "\n",
              "                                station_name  prcp_(mm)  tavg_(celsius)  \n",
              "0                De Vere Gardens, Kensington        2.5            14.8  \n",
              "1               Waterloo Station 3, Waterloo        2.5            14.8  \n",
              "2                 New Kent Road, The Borough        2.5            14.8  \n",
              "3                 New Kent Road, The Borough        2.5            14.8  \n",
              "4        Black Lion Gate, Kensington Gardens        2.5            14.8  \n",
              "...                                      ...        ...             ...  \n",
              "1353589                Wenlock Road , Hoxton        0.0            16.7  \n",
              "1353590             Knightsbridge, Hyde Park        0.0            16.7  \n",
              "1353591                Tower Gardens , Tower        0.0            16.7  \n",
              "1353592                    The Vale, Chelsea        0.0            16.7  \n",
              "1353593              Doric Way , Somers Town        0.0            16.7  \n",
              "\n",
              "[1353594 rows x 15 columns]"
            ],
            "text/html": [
              "\n",
              "  <div id=\"df-07734d01-a675-42ff-9954-3c98a2b9ffdd\">\n",
              "    <div class=\"colab-df-container\">\n",
              "      <div>\n",
              "<style scoped>\n",
              "    .dataframe tbody tr th:only-of-type {\n",
              "        vertical-align: middle;\n",
              "    }\n",
              "\n",
              "    .dataframe tbody tr th {\n",
              "        vertical-align: top;\n",
              "    }\n",
              "\n",
              "    .dataframe thead th {\n",
              "        text-align: right;\n",
              "    }\n",
              "</style>\n",
              "<table border=\"1\" class=\"dataframe\">\n",
              "  <thead>\n",
              "    <tr style=\"text-align: right;\">\n",
              "      <th></th>\n",
              "      <th>journey_duration</th>\n",
              "      <th>journey_id</th>\n",
              "      <th>end_station_id</th>\n",
              "      <th>start_station_id</th>\n",
              "      <th>formatted_start_date</th>\n",
              "      <th>formatted_end_date</th>\n",
              "      <th>start_time</th>\n",
              "      <th>end_time</th>\n",
              "      <th>station_id</th>\n",
              "      <th>capacity</th>\n",
              "      <th>latitude</th>\n",
              "      <th>longitude</th>\n",
              "      <th>station_name</th>\n",
              "      <th>prcp_(mm)</th>\n",
              "      <th>tavg_(celsius)</th>\n",
              "    </tr>\n",
              "  </thead>\n",
              "  <tbody>\n",
              "    <tr>\n",
              "      <th>0</th>\n",
              "      <td>20.000000</td>\n",
              "      <td>14659</td>\n",
              "      <td>605</td>\n",
              "      <td>36</td>\n",
              "      <td>13/09/2017</td>\n",
              "      <td>13/09/2017</td>\n",
              "      <td>19:13</td>\n",
              "      <td>19:33</td>\n",
              "      <td>36</td>\n",
              "      <td>28</td>\n",
              "      <td>51.501737</td>\n",
              "      <td>-0.184980</td>\n",
              "      <td>De Vere Gardens, Kensington</td>\n",
              "      <td>2.5</td>\n",
              "      <td>14.8</td>\n",
              "    </tr>\n",
              "    <tr>\n",
              "      <th>1</th>\n",
              "      <td>15.000000</td>\n",
              "      <td>9923</td>\n",
              "      <td>298</td>\n",
              "      <td>154</td>\n",
              "      <td>13/09/2017</td>\n",
              "      <td>13/09/2017</td>\n",
              "      <td>08:17</td>\n",
              "      <td>08:32</td>\n",
              "      <td>154</td>\n",
              "      <td>35</td>\n",
              "      <td>51.503791</td>\n",
              "      <td>-0.112824</td>\n",
              "      <td>Waterloo Station 3, Waterloo</td>\n",
              "      <td>2.5</td>\n",
              "      <td>14.8</td>\n",
              "    </tr>\n",
              "    <tr>\n",
              "      <th>2</th>\n",
              "      <td>8.000000</td>\n",
              "      <td>9642</td>\n",
              "      <td>194</td>\n",
              "      <td>156</td>\n",
              "      <td>13/09/2017</td>\n",
              "      <td>13/09/2017</td>\n",
              "      <td>15:23</td>\n",
              "      <td>15:31</td>\n",
              "      <td>156</td>\n",
              "      <td>33</td>\n",
              "      <td>51.494436</td>\n",
              "      <td>-0.092921</td>\n",
              "      <td>New Kent Road, The Borough</td>\n",
              "      <td>2.5</td>\n",
              "      <td>14.8</td>\n",
              "    </tr>\n",
              "    <tr>\n",
              "      <th>3</th>\n",
              "      <td>8.000000</td>\n",
              "      <td>12668</td>\n",
              "      <td>194</td>\n",
              "      <td>156</td>\n",
              "      <td>13/09/2017</td>\n",
              "      <td>13/09/2017</td>\n",
              "      <td>15:23</td>\n",
              "      <td>15:31</td>\n",
              "      <td>156</td>\n",
              "      <td>33</td>\n",
              "      <td>51.494436</td>\n",
              "      <td>-0.092921</td>\n",
              "      <td>New Kent Road, The Borough</td>\n",
              "      <td>2.5</td>\n",
              "      <td>14.8</td>\n",
              "    </tr>\n",
              "    <tr>\n",
              "      <th>4</th>\n",
              "      <td>11.000000</td>\n",
              "      <td>8907</td>\n",
              "      <td>368</td>\n",
              "      <td>307</td>\n",
              "      <td>13/09/2017</td>\n",
              "      <td>13/09/2017</td>\n",
              "      <td>08:31</td>\n",
              "      <td>08:42</td>\n",
              "      <td>307</td>\n",
              "      <td>24</td>\n",
              "      <td>51.509908</td>\n",
              "      <td>-0.187842</td>\n",
              "      <td>Black Lion Gate, Kensington Gardens</td>\n",
              "      <td>2.5</td>\n",
              "      <td>14.8</td>\n",
              "    </tr>\n",
              "    <tr>\n",
              "      <th>...</th>\n",
              "      <td>...</td>\n",
              "      <td>...</td>\n",
              "      <td>...</td>\n",
              "      <td>...</td>\n",
              "      <td>...</td>\n",
              "      <td>...</td>\n",
              "      <td>...</td>\n",
              "      <td>...</td>\n",
              "      <td>...</td>\n",
              "      <td>...</td>\n",
              "      <td>...</td>\n",
              "      <td>...</td>\n",
              "      <td>...</td>\n",
              "      <td>...</td>\n",
              "      <td>...</td>\n",
              "    </tr>\n",
              "    <tr>\n",
              "      <th>1353589</th>\n",
              "      <td>4.500000</td>\n",
              "      <td>5296</td>\n",
              "      <td>32</td>\n",
              "      <td>42</td>\n",
              "      <td>07/08/2017</td>\n",
              "      <td>08/08/2017</td>\n",
              "      <td>23:58</td>\n",
              "      <td>00:02</td>\n",
              "      <td>42</td>\n",
              "      <td>28</td>\n",
              "      <td>51.530991</td>\n",
              "      <td>-0.093903</td>\n",
              "      <td>Wenlock Road , Hoxton</td>\n",
              "      <td>0.0</td>\n",
              "      <td>16.7</td>\n",
              "    </tr>\n",
              "    <tr>\n",
              "      <th>1353590</th>\n",
              "      <td>15.183333</td>\n",
              "      <td>12348</td>\n",
              "      <td>625</td>\n",
              "      <td>222</td>\n",
              "      <td>07/08/2017</td>\n",
              "      <td>08/08/2017</td>\n",
              "      <td>23:58</td>\n",
              "      <td>00:13</td>\n",
              "      <td>222</td>\n",
              "      <td>43</td>\n",
              "      <td>51.502757</td>\n",
              "      <td>-0.155349</td>\n",
              "      <td>Knightsbridge, Hyde Park</td>\n",
              "      <td>0.0</td>\n",
              "      <td>16.7</td>\n",
              "    </tr>\n",
              "    <tr>\n",
              "      <th>1353591</th>\n",
              "      <td>7.450000</td>\n",
              "      <td>8303</td>\n",
              "      <td>453</td>\n",
              "      <td>130</td>\n",
              "      <td>07/08/2017</td>\n",
              "      <td>08/08/2017</td>\n",
              "      <td>23:59</td>\n",
              "      <td>00:07</td>\n",
              "      <td>130</td>\n",
              "      <td>24</td>\n",
              "      <td>51.509506</td>\n",
              "      <td>-0.075459</td>\n",
              "      <td>Tower Gardens , Tower</td>\n",
              "      <td>0.0</td>\n",
              "      <td>16.7</td>\n",
              "    </tr>\n",
              "    <tr>\n",
              "      <th>1353592</th>\n",
              "      <td>7.066667</td>\n",
              "      <td>12038</td>\n",
              "      <td>405</td>\n",
              "      <td>755</td>\n",
              "      <td>07/08/2017</td>\n",
              "      <td>08/08/2017</td>\n",
              "      <td>23:59</td>\n",
              "      <td>00:06</td>\n",
              "      <td>755</td>\n",
              "      <td>24</td>\n",
              "      <td>51.485121</td>\n",
              "      <td>-0.174971</td>\n",
              "      <td>The Vale, Chelsea</td>\n",
              "      <td>0.0</td>\n",
              "      <td>16.7</td>\n",
              "    </tr>\n",
              "    <tr>\n",
              "      <th>1353593</th>\n",
              "      <td>5.116667</td>\n",
              "      <td>4590</td>\n",
              "      <td>77</td>\n",
              "      <td>25</td>\n",
              "      <td>07/08/2017</td>\n",
              "      <td>08/08/2017</td>\n",
              "      <td>23:59</td>\n",
              "      <td>00:04</td>\n",
              "      <td>25</td>\n",
              "      <td>32</td>\n",
              "      <td>51.528833</td>\n",
              "      <td>-0.132250</td>\n",
              "      <td>Doric Way , Somers Town</td>\n",
              "      <td>0.0</td>\n",
              "      <td>16.7</td>\n",
              "    </tr>\n",
              "  </tbody>\n",
              "</table>\n",
              "<p>1353594 rows × 15 columns</p>\n",
              "</div>\n",
              "      <button class=\"colab-df-convert\" onclick=\"convertToInteractive('df-07734d01-a675-42ff-9954-3c98a2b9ffdd')\"\n",
              "              title=\"Convert this dataframe to an interactive table.\"\n",
              "              style=\"display:none;\">\n",
              "        \n",
              "  <svg xmlns=\"http://www.w3.org/2000/svg\" height=\"24px\"viewBox=\"0 0 24 24\"\n",
              "       width=\"24px\">\n",
              "    <path d=\"M0 0h24v24H0V0z\" fill=\"none\"/>\n",
              "    <path d=\"M18.56 5.44l.94 2.06.94-2.06 2.06-.94-2.06-.94-.94-2.06-.94 2.06-2.06.94zm-11 1L8.5 8.5l.94-2.06 2.06-.94-2.06-.94L8.5 2.5l-.94 2.06-2.06.94zm10 10l.94 2.06.94-2.06 2.06-.94-2.06-.94-.94-2.06-.94 2.06-2.06.94z\"/><path d=\"M17.41 7.96l-1.37-1.37c-.4-.4-.92-.59-1.43-.59-.52 0-1.04.2-1.43.59L10.3 9.45l-7.72 7.72c-.78.78-.78 2.05 0 2.83L4 21.41c.39.39.9.59 1.41.59.51 0 1.02-.2 1.41-.59l7.78-7.78 2.81-2.81c.8-.78.8-2.07 0-2.86zM5.41 20L4 18.59l7.72-7.72 1.47 1.35L5.41 20z\"/>\n",
              "  </svg>\n",
              "      </button>\n",
              "      \n",
              "  <style>\n",
              "    .colab-df-container {\n",
              "      display:flex;\n",
              "      flex-wrap:wrap;\n",
              "      gap: 12px;\n",
              "    }\n",
              "\n",
              "    .colab-df-convert {\n",
              "      background-color: #E8F0FE;\n",
              "      border: none;\n",
              "      border-radius: 50%;\n",
              "      cursor: pointer;\n",
              "      display: none;\n",
              "      fill: #1967D2;\n",
              "      height: 32px;\n",
              "      padding: 0 0 0 0;\n",
              "      width: 32px;\n",
              "    }\n",
              "\n",
              "    .colab-df-convert:hover {\n",
              "      background-color: #E2EBFA;\n",
              "      box-shadow: 0px 1px 2px rgba(60, 64, 67, 0.3), 0px 1px 3px 1px rgba(60, 64, 67, 0.15);\n",
              "      fill: #174EA6;\n",
              "    }\n",
              "\n",
              "    [theme=dark] .colab-df-convert {\n",
              "      background-color: #3B4455;\n",
              "      fill: #D2E3FC;\n",
              "    }\n",
              "\n",
              "    [theme=dark] .colab-df-convert:hover {\n",
              "      background-color: #434B5C;\n",
              "      box-shadow: 0px 1px 3px 1px rgba(0, 0, 0, 0.15);\n",
              "      filter: drop-shadow(0px 1px 2px rgba(0, 0, 0, 0.3));\n",
              "      fill: #FFFFFF;\n",
              "    }\n",
              "  </style>\n",
              "\n",
              "      <script>\n",
              "        const buttonEl =\n",
              "          document.querySelector('#df-07734d01-a675-42ff-9954-3c98a2b9ffdd button.colab-df-convert');\n",
              "        buttonEl.style.display =\n",
              "          google.colab.kernel.accessAllowed ? 'block' : 'none';\n",
              "\n",
              "        async function convertToInteractive(key) {\n",
              "          const element = document.querySelector('#df-07734d01-a675-42ff-9954-3c98a2b9ffdd');\n",
              "          const dataTable =\n",
              "            await google.colab.kernel.invokeFunction('convertToInteractive',\n",
              "                                                     [key], {});\n",
              "          if (!dataTable) return;\n",
              "\n",
              "          const docLinkHtml = 'Like what you see? Visit the ' +\n",
              "            '<a target=\"_blank\" href=https://colab.research.google.com/notebooks/data_table.ipynb>data table notebook</a>'\n",
              "            + ' to learn more about interactive tables.';\n",
              "          element.innerHTML = '';\n",
              "          dataTable['output_type'] = 'display_data';\n",
              "          await google.colab.output.renderOutput(dataTable, element);\n",
              "          const docLink = document.createElement('div');\n",
              "          docLink.innerHTML = docLinkHtml;\n",
              "          element.appendChild(docLink);\n",
              "        }\n",
              "      </script>\n",
              "    </div>\n",
              "  </div>\n",
              "  "
            ]
          },
          "metadata": {},
          "execution_count": 19
        }
      ]
    },
    {
      "cell_type": "markdown",
      "source": [
        "### Check Data Quality"
      ],
      "metadata": {
        "id": "-iv-itrafOFI"
      }
    },
    {
      "cell_type": "code",
      "source": [
        "# Returns the number of duplicate rows\n",
        "combined_data.duplicated().sum()"
      ],
      "metadata": {
        "colab": {
          "base_uri": "https://localhost:8080/"
        },
        "id": "XOYee-4sfNHI",
        "outputId": "a8a53f21-b2ee-43a0-9925-665d69f4402c"
      },
      "execution_count": 16,
      "outputs": [
        {
          "output_type": "execute_result",
          "data": {
            "text/plain": [
              "6"
            ]
          },
          "metadata": {},
          "execution_count": 16
        }
      ]
    },
    {
      "cell_type": "markdown",
      "source": [
        "The likleyhood of an individual having the same values for each column is extremley low and since there is only 6 out of more than a million gives a stong rationale that this is an administrative error so they can just be removed."
      ],
      "metadata": {
        "id": "0zbF3pXyf5OD"
      }
    },
    {
      "cell_type": "code",
      "source": [
        "# Remove the duplicate rows\n",
        "combined_data = combined_data.drop_duplicates(inplace=True)"
      ],
      "metadata": {
        "id": "Cdiys5_fgFWF"
      },
      "execution_count": 17,
      "outputs": []
    },
    {
      "cell_type": "code",
      "source": [
        "combined_data['journey_duration'].plot.box(vert=False)"
      ],
      "metadata": {
        "colab": {
          "base_uri": "https://localhost:8080/",
          "height": 283
        },
        "id": "dXfQs23W5NUx",
        "outputId": "7f06132f-d071-4f5f-bb8d-13447537f8c4"
      },
      "execution_count": 20,
      "outputs": [
        {
          "output_type": "execute_result",
          "data": {
            "text/plain": [
              "<matplotlib.axes._subplots.AxesSubplot at 0x7f0dbe4f14c0>"
            ]
          },
          "metadata": {},
          "execution_count": 20
        },
        {
          "output_type": "display_data",
          "data": {
            "text/plain": [
              "<Figure size 432x288 with 1 Axes>"
            ],
            "image/png": "[encoded data removed]"
          },
          "metadata": {
            "needs_background": "light"
          }
        }
      ]
    },
    {
      "cell_type": "markdown",
      "source": [
        "This boxplot is not very informative becuase there very large outliers that are squashing the important data. This could be due many reasons but ultimatley the individuals not going to ending bike station for a long time. \n"
      ],
      "metadata": {
        "id": "d6sPNbbm959D"
      }
    },
    {
      "cell_type": "code",
      "source": [
        "# Removes all rows where the start date and end date are different\n",
        "combined_data = combined_data.loc[combined_data['formatted_start_date'] == combined_data['formatted_end_date']]\n",
        "\n"
      ],
      "metadata": {
        "id": "BNt7Hfdc_JlI"
      },
      "execution_count": 56,
      "outputs": []
    },
    {
      "cell_type": "markdown",
      "source": [
        "I remove this data because I will not be able to account for the temperature on the rows that overlap into different days."
      ],
      "metadata": {
        "id": "pcthQx68Cw17"
      }
    },
    {
      "cell_type": "code",
      "source": [
        "combined_data['journey_duration'].plot.box(vert=False)"
      ],
      "metadata": {
        "colab": {
          "base_uri": "https://localhost:8080/",
          "height": 283
        },
        "id": "tqb-y0g5Ak8E",
        "outputId": "8d23cf2a-5545-4e4e-91af-77c60aea6854"
      },
      "execution_count": 57,
      "outputs": [
        {
          "output_type": "execute_result",
          "data": {
            "text/plain": [
              "<matplotlib.axes._subplots.AxesSubplot at 0x7f0dd543e400>"
            ]
          },
          "metadata": {},
          "execution_count": 57
        },
        {
          "output_type": "display_data",
          "data": {
            "text/plain": [
              "<Figure size 432x288 with 1 Axes>"
            ],
            "image/png": "[encoded data removed]"
          },
          "metadata": {
            "needs_background": "light"
          }
        }
      ]
    },
    {
      "cell_type": "markdown",
      "source": [
        "This still yeild the large outlier. Even with the dates accounted for the variance is still too large. To visualise this data and explain will be difficult."
      ],
      "metadata": {
        "id": "RqR6F7B-C8KI"
      }
    },
    {
      "cell_type": "code",
      "source": [
        "# Creat a data subset the data to exclude extreme values\n",
        "lower_extremes = combined_data['journey_duration'].quantile(0.10)\n",
        "upper_extremes = combined_data['journey_duration'].quantile(0.90)\n",
        "combined_data_subset = combined_data[(combined_data['journey_duration'] > lower_extremes) & (combined_data['journey_duration'] < upper_extremes)]\n"
      ],
      "metadata": {
        "id": "41MwmJr6Eh_n"
      },
      "execution_count": 58,
      "outputs": []
    },
    {
      "cell_type": "markdown",
      "source": [
        "I exclude the extreme values from the dataset to improve the accuracy and interpretability of the analysis and moddelling if neccessary. Outliers can skew the distribution and hide the more representative values in the dataset. Doing this allows me to  focus on the more typical values and create visualizations that are easier to understand and produce more meaningful conclusions."
      ],
      "metadata": {
        "id": "1Fv2NCatHcvh"
      }
    },
    {
      "cell_type": "code",
      "source": [
        "combined_data_subset['journey_duration'].plot.box(vert=False)"
      ],
      "metadata": {
        "colab": {
          "base_uri": "https://localhost:8080/",
          "height": 283
        },
        "id": "MllWl3mHBXsn",
        "outputId": "3ca10af9-c6e3-4fe7-d943-2abc64c7124d"
      },
      "execution_count": 59,
      "outputs": [
        {
          "output_type": "execute_result",
          "data": {
            "text/plain": [
              "<matplotlib.axes._subplots.AxesSubplot at 0x7f0dd5651ac0>"
            ]
          },
          "metadata": {},
          "execution_count": 59
        },
        {
          "output_type": "display_data",
          "data": {
            "text/plain": [
              "<Figure size 432x288 with 1 Axes>"
            ],
            "image/png": "[encoded data removed]"
          },
          "metadata": {
            "needs_background": "light"
          }
        }
      ]
    },
    {
      "cell_type": "markdown",
      "source": [
        "## Analyse"
      ],
      "metadata": {
        "id": "y7Ok0ZyDRtml"
      }
    },
    {
      "cell_type": "markdown",
      "source": [
        "\n",
        "### 1. Affect of Weather\n",
        "\n"
      ],
      "metadata": {
        "id": "7wbWb5fZbopa"
      }
    }
  ]
}