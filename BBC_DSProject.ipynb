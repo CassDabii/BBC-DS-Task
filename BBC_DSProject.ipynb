{
  "nbformat": 4,
  "nbformat_minor": 0,
  "metadata": {
    "colab": {
      "provenance": [],
      "history_visible": true,
      "authorship_tag": "ABX9TyMQYsUscpJ9fxJZ6Y1Z7V6c",
      "include_colab_link": true
    },
    "kernelspec": {
      "name": "python3",
      "display_name": "Python 3"
    },
    "language_info": {
      "name": "python"
    }
  },
  "cells": [
    {
      "cell_type": "markdown",
      "metadata": {
        "id": "view-in-github",
        "colab_type": "text"
      },
      "source": [
        "<a href=\"https://colab.research.google.com/github/CassDabii/BBC-DS-Task/blob/main/BBC_DSProject.ipynb\" target=\"_parent\"><img src=\"https://colab.research.google.com/assets/colab-badge.svg\" alt=\"Open In Colab\"/></a>"
      ]
    },
    {
      "cell_type": "markdown",
      "source": [
        "***BBC Data Science Project*** \n",
        "---\n",
        "Since this project is open ended it is up to me to determine what data is useful to make actionable insights. To do this I will make a list of *preliminary* goals that are variable, however any goals added or omitted will not be hidden but instead justified to maintain credibility\n",
        "\n"
      ],
      "metadata": {
        "id": "Icb-dKrgg0P8"
      }
    },
    {
      "cell_type": "markdown",
      "source": [
        "\n",
        "Goals\n",
        "*   Determine the effect weather has on the length of the journey and the cycle volume.\n",
        "*   Determine the usefulness and performance of trying to predict cycle volumes\n",
        "*   Decipher where to add another station\n",
        "*   If the business was ever wanting to get rid of a station what station would make the most sense to get rid of.\n",
        "*   What effect bike station capacity has (e.g., the more spaces the more people go use it).\n",
        "*   Which stations would it be useful to expand.\n",
        "\n",
        "\n",
        "\n",
        "\n",
        "\n",
        "\n",
        "\n",
        "\n",
        "\n",
        "\n"
      ],
      "metadata": {
        "id": "mKFFW223qxl3"
      }
    },
    {
      "cell_type": "markdown",
      "source": [
        "## Acquiring Data"
      ],
      "metadata": {
        "id": "h8bu9o4ChHtg"
      }
    },
    {
      "cell_type": "code",
      "source": [
        "# All imports declared at top cell to have a centralised location if changes are needed\n",
        "import pandas as pd\n",
        "import matplotlib.pyplot  as plt\n",
        "%matplotlib inline\n",
        "import numpy as np\n",
        "import sqlite3 \n",
        "from sklearn.model_selection import train_test_split\n",
        "from sklearn.linear_model import LinearRegression\n",
        "from sklearn.preprocessing import PolynomialFeatures\n",
        "from sklearn.tree import DecisionTreeRegressor\n",
        "from sklearn.neural_network import MLPRegressor\n",
        "from sklearn.metrics import mean_squared_error, r2_score\n",
        "from sklearn.cluster import KMeans\n",
        "from sklearn.preprocessing import StandardScaler"
      ],
      "metadata": {
        "id": "a5yGzT63cCMT"
      },
      "execution_count": 1,
      "outputs": []
    },
    {
      "cell_type": "code",
      "execution_count": 2,
      "metadata": {
        "id": "IwpaSDhxPBv0"
      },
      "outputs": [],
      "source": [
        "# Connects to my uploaded database and creates a cursor object to execute SQL statements when needed\n",
        "conn = sqlite3.connect('/content/BBCDS.sqlite3')"
      ]
    },
    {
      "cell_type": "code",
      "source": [
        "# Reads the database tables and writes it into a dataframe\n",
        "bike_journeys = pd.read_sql('SELECT * FROM bike_journeys;',conn)\n",
        "bike_stations = pd.read_sql('SELECT * FROM bike_stations;',conn)\n",
        "weather = pd.read_sql('SELECT * FROM weather;',conn)"
      ],
      "metadata": {
        "id": "69p1Kp7DZU1R"
      },
      "execution_count": 3,
      "outputs": []
    },
    {
      "cell_type": "markdown",
      "source": [
        "### Bike Journeys"
      ],
      "metadata": {
        "id": "SHVQAi9ijOsa"
      }
    },
    {
      "cell_type": "code",
      "source": [
        "# Shows the data in a dataframe format\n",
        "bike_journeys.head()"
      ],
      "metadata": {
        "id": "_EWja6TSgad7",
        "colab": {
          "base_uri": "https://localhost:8080/",
          "height": 250
        },
        "outputId": "214eb0f7-0958-4fb5-e9ee-de803edc118d"
      },
      "execution_count": 4,
      "outputs": [
        {
          "output_type": "execute_result",
          "data": {
            "text/plain": [
              "   Journey Duration  Journey ID  End Date  End Month  End Year  End Hour  \\\n",
              "0              2040         953        19          9        17        18   \n",
              "1              1800       12581        19          9        17        15   \n",
              "2              1140        1159        15          9        17        17   \n",
              "3               420        2375        14          9        17        12   \n",
              "4              1200       14659        13          9        17        19   \n",
              "\n",
              "   End Minute  End Station ID  Start Date  Start Month  Start Year  \\\n",
              "0           0             478          19            9          17   \n",
              "1          21             122          19            9          17   \n",
              "2           1             639          15            9          17   \n",
              "3          16             755          14            9          17   \n",
              "4          33             605          13            9          17   \n",
              "\n",
              "   Start Hour  Start Minute  Start Station ID  \n",
              "0          17            26               251  \n",
              "1          14            51               550  \n",
              "2          16            42               212  \n",
              "3          12             9               163  \n",
              "4          19            13                36  "
            ],
            "text/html": [
              "\n",
              "  <div id=\"df-99915d72-5698-4b75-ade0-b1c093cc5173\">\n",
              "    <div class=\"colab-df-container\">\n",
              "      <div>\n",
              "<style scoped>\n",
              "    .dataframe tbody tr th:only-of-type {\n",
              "        vertical-align: middle;\n",
              "    }\n",
              "\n",
              "    .dataframe tbody tr th {\n",
              "        vertical-align: top;\n",
              "    }\n",
              "\n",
              "    .dataframe thead th {\n",
              "        text-align: right;\n",
              "    }\n",
              "</style>\n",
              "<table border=\"1\" class=\"dataframe\">\n",
              "  <thead>\n",
              "    <tr style=\"text-align: right;\">\n",
              "      <th></th>\n",
              "      <th>Journey Duration</th>\n",
              "      <th>Journey ID</th>\n",
              "      <th>End Date</th>\n",
              "      <th>End Month</th>\n",
              "      <th>End Year</th>\n",
              "      <th>End Hour</th>\n",
              "      <th>End Minute</th>\n",
              "      <th>End Station ID</th>\n",
              "      <th>Start Date</th>\n",
              "      <th>Start Month</th>\n",
              "      <th>Start Year</th>\n",
              "      <th>Start Hour</th>\n",
              "      <th>Start Minute</th>\n",
              "      <th>Start Station ID</th>\n",
              "    </tr>\n",
              "  </thead>\n",
              "  <tbody>\n",
              "    <tr>\n",
              "      <th>0</th>\n",
              "      <td>2040</td>\n",
              "      <td>953</td>\n",
              "      <td>19</td>\n",
              "      <td>9</td>\n",
              "      <td>17</td>\n",
              "      <td>18</td>\n",
              "      <td>0</td>\n",
              "      <td>478</td>\n",
              "      <td>19</td>\n",
              "      <td>9</td>\n",
              "      <td>17</td>\n",
              "      <td>17</td>\n",
              "      <td>26</td>\n",
              "      <td>251</td>\n",
              "    </tr>\n",
              "    <tr>\n",
              "      <th>1</th>\n",
              "      <td>1800</td>\n",
              "      <td>12581</td>\n",
              "      <td>19</td>\n",
              "      <td>9</td>\n",
              "      <td>17</td>\n",
              "      <td>15</td>\n",
              "      <td>21</td>\n",
              "      <td>122</td>\n",
              "      <td>19</td>\n",
              "      <td>9</td>\n",
              "      <td>17</td>\n",
              "      <td>14</td>\n",
              "      <td>51</td>\n",
              "      <td>550</td>\n",
              "    </tr>\n",
              "    <tr>\n",
              "      <th>2</th>\n",
              "      <td>1140</td>\n",
              "      <td>1159</td>\n",
              "      <td>15</td>\n",
              "      <td>9</td>\n",
              "      <td>17</td>\n",
              "      <td>17</td>\n",
              "      <td>1</td>\n",
              "      <td>639</td>\n",
              "      <td>15</td>\n",
              "      <td>9</td>\n",
              "      <td>17</td>\n",
              "      <td>16</td>\n",
              "      <td>42</td>\n",
              "      <td>212</td>\n",
              "    </tr>\n",
              "    <tr>\n",
              "      <th>3</th>\n",
              "      <td>420</td>\n",
              "      <td>2375</td>\n",
              "      <td>14</td>\n",
              "      <td>9</td>\n",
              "      <td>17</td>\n",
              "      <td>12</td>\n",
              "      <td>16</td>\n",
              "      <td>755</td>\n",
              "      <td>14</td>\n",
              "      <td>9</td>\n",
              "      <td>17</td>\n",
              "      <td>12</td>\n",
              "      <td>9</td>\n",
              "      <td>163</td>\n",
              "    </tr>\n",
              "    <tr>\n",
              "      <th>4</th>\n",
              "      <td>1200</td>\n",
              "      <td>14659</td>\n",
              "      <td>13</td>\n",
              "      <td>9</td>\n",
              "      <td>17</td>\n",
              "      <td>19</td>\n",
              "      <td>33</td>\n",
              "      <td>605</td>\n",
              "      <td>13</td>\n",
              "      <td>9</td>\n",
              "      <td>17</td>\n",
              "      <td>19</td>\n",
              "      <td>13</td>\n",
              "      <td>36</td>\n",
              "    </tr>\n",
              "  </tbody>\n",
              "</table>\n",
              "</div>\n",
              "      <button class=\"colab-df-convert\" onclick=\"convertToInteractive('df-99915d72-5698-4b75-ade0-b1c093cc5173')\"\n",
              "              title=\"Convert this dataframe to an interactive table.\"\n",
              "              style=\"display:none;\">\n",
              "        \n",
              "  <svg xmlns=\"http://www.w3.org/2000/svg\" height=\"24px\"viewBox=\"0 0 24 24\"\n",
              "       width=\"24px\">\n",
              "    <path d=\"M0 0h24v24H0V0z\" fill=\"none\"/>\n",
              "    <path d=\"M18.56 5.44l.94 2.06.94-2.06 2.06-.94-2.06-.94-.94-2.06-.94 2.06-2.06.94zm-11 1L8.5 8.5l.94-2.06 2.06-.94-2.06-.94L8.5 2.5l-.94 2.06-2.06.94zm10 10l.94 2.06.94-2.06 2.06-.94-2.06-.94-.94-2.06-.94 2.06-2.06.94z\"/><path d=\"M17.41 7.96l-1.37-1.37c-.4-.4-.92-.59-1.43-.59-.52 0-1.04.2-1.43.59L10.3 9.45l-7.72 7.72c-.78.78-.78 2.05 0 2.83L4 21.41c.39.39.9.59 1.41.59.51 0 1.02-.2 1.41-.59l7.78-7.78 2.81-2.81c.8-.78.8-2.07 0-2.86zM5.41 20L4 18.59l7.72-7.72 1.47 1.35L5.41 20z\"/>\n",
              "  </svg>\n",
              "      </button>\n",
              "      \n",
              "  <style>\n",
              "    .colab-df-container {\n",
              "      display:flex;\n",
              "      flex-wrap:wrap;\n",
              "      gap: 12px;\n",
              "    }\n",
              "\n",
              "    .colab-df-convert {\n",
              "      background-color: #E8F0FE;\n",
              "      border: none;\n",
              "      border-radius: 50%;\n",
              "      cursor: pointer;\n",
              "      display: none;\n",
              "      fill: #1967D2;\n",
              "      height: 32px;\n",
              "      padding: 0 0 0 0;\n",
              "      width: 32px;\n",
              "    }\n",
              "\n",
              "    .colab-df-convert:hover {\n",
              "      background-color: #E2EBFA;\n",
              "      box-shadow: 0px 1px 2px rgba(60, 64, 67, 0.3), 0px 1px 3px 1px rgba(60, 64, 67, 0.15);\n",
              "      fill: #174EA6;\n",
              "    }\n",
              "\n",
              "    [theme=dark] .colab-df-convert {\n",
              "      background-color: #3B4455;\n",
              "      fill: #D2E3FC;\n",
              "    }\n",
              "\n",
              "    [theme=dark] .colab-df-convert:hover {\n",
              "      background-color: #434B5C;\n",
              "      box-shadow: 0px 1px 3px 1px rgba(0, 0, 0, 0.15);\n",
              "      filter: drop-shadow(0px 1px 2px rgba(0, 0, 0, 0.3));\n",
              "      fill: #FFFFFF;\n",
              "    }\n",
              "  </style>\n",
              "\n",
              "      <script>\n",
              "        const buttonEl =\n",
              "          document.querySelector('#df-99915d72-5698-4b75-ade0-b1c093cc5173 button.colab-df-convert');\n",
              "        buttonEl.style.display =\n",
              "          google.colab.kernel.accessAllowed ? 'block' : 'none';\n",
              "\n",
              "        async function convertToInteractive(key) {\n",
              "          const element = document.querySelector('#df-99915d72-5698-4b75-ade0-b1c093cc5173');\n",
              "          const dataTable =\n",
              "            await google.colab.kernel.invokeFunction('convertToInteractive',\n",
              "                                                     [key], {});\n",
              "          if (!dataTable) return;\n",
              "\n",
              "          const docLinkHtml = 'Like what you see? Visit the ' +\n",
              "            '<a target=\"_blank\" href=https://colab.research.google.com/notebooks/data_table.ipynb>data table notebook</a>'\n",
              "            + ' to learn more about interactive tables.';\n",
              "          element.innerHTML = '';\n",
              "          dataTable['output_type'] = 'display_data';\n",
              "          await google.colab.output.renderOutput(dataTable, element);\n",
              "          const docLink = document.createElement('div');\n",
              "          docLink.innerHTML = docLinkHtml;\n",
              "          element.appendChild(docLink);\n",
              "        }\n",
              "      </script>\n",
              "    </div>\n",
              "  </div>\n",
              "  "
            ]
          },
          "metadata": {},
          "execution_count": 4
        }
      ]
    },
    {
      "cell_type": "markdown",
      "source": [
        "Looking over the data, that the lowest change in the time series is minutes: However, cross referenceing with the other columns show that the journey duration is given in seconds so that will have to be changed since that inconsistency lowers the data quality. I also see that some journeys have the same ID so its purpose as a primary key has failed. My initial thoughts are that the data needs a lot of TLC and quality is low due to over use of columns for date and time and no Primary Key. "
      ],
      "metadata": {
        "id": "AuswJDzTd7oI"
      }
    },
    {
      "cell_type": "code",
      "source": [
        "bike_journeys.shape"
      ],
      "metadata": {
        "colab": {
          "base_uri": "https://localhost:8080/"
        },
        "id": "vXkkGSYCRDnT",
        "outputId": "e3c11e85-3d3f-466a-f413-d22cfc9ca971"
      },
      "execution_count": 5,
      "outputs": [
        {
          "output_type": "execute_result",
          "data": {
            "text/plain": [
              "(1542844, 14)"
            ]
          },
          "metadata": {},
          "execution_count": 5
        }
      ]
    },
    {
      "cell_type": "markdown",
      "source": [
        "### Bike Stations"
      ],
      "metadata": {
        "id": "9cRLlFmujVA9"
      }
    },
    {
      "cell_type": "code",
      "source": [
        "bike_stations.head()"
      ],
      "metadata": {
        "id": "wA5xuFBcimGU",
        "colab": {
          "base_uri": "https://localhost:8080/",
          "height": 206
        },
        "outputId": "743b59c2-982c-4801-87e8-7d864f762849"
      },
      "execution_count": 6,
      "outputs": [
        {
          "output_type": "execute_result",
          "data": {
            "text/plain": [
              "   Station ID  Capacity   Latitude  Longitude  \\\n",
              "0           1        19  51.529163  -0.109970   \n",
              "1           2        37  51.499606  -0.197574   \n",
              "2           3        32  51.521283  -0.084605   \n",
              "3           4        23  51.530059  -0.120973   \n",
              "4           5        27  51.493130  -0.156876   \n",
              "\n",
              "                           Station Name  \n",
              "0            River Street , Clerkenwell  \n",
              "1        Phillimore Gardens, Kensington  \n",
              "2  Christopher Street, Liverpool Street  \n",
              "3       St. Chad's Street, King's Cross  \n",
              "4         Sedding Street, Sloane Square  "
            ],
            "text/html": [
              "\n",
              "  <div id=\"df-fa442848-a420-41d5-b411-992cfb8a7a42\">\n",
              "    <div class=\"colab-df-container\">\n",
              "      <div>\n",
              "<style scoped>\n",
              "    .dataframe tbody tr th:only-of-type {\n",
              "        vertical-align: middle;\n",
              "    }\n",
              "\n",
              "    .dataframe tbody tr th {\n",
              "        vertical-align: top;\n",
              "    }\n",
              "\n",
              "    .dataframe thead th {\n",
              "        text-align: right;\n",
              "    }\n",
              "</style>\n",
              "<table border=\"1\" class=\"dataframe\">\n",
              "  <thead>\n",
              "    <tr style=\"text-align: right;\">\n",
              "      <th></th>\n",
              "      <th>Station ID</th>\n",
              "      <th>Capacity</th>\n",
              "      <th>Latitude</th>\n",
              "      <th>Longitude</th>\n",
              "      <th>Station Name</th>\n",
              "    </tr>\n",
              "  </thead>\n",
              "  <tbody>\n",
              "    <tr>\n",
              "      <th>0</th>\n",
              "      <td>1</td>\n",
              "      <td>19</td>\n",
              "      <td>51.529163</td>\n",
              "      <td>-0.109970</td>\n",
              "      <td>River Street , Clerkenwell</td>\n",
              "    </tr>\n",
              "    <tr>\n",
              "      <th>1</th>\n",
              "      <td>2</td>\n",
              "      <td>37</td>\n",
              "      <td>51.499606</td>\n",
              "      <td>-0.197574</td>\n",
              "      <td>Phillimore Gardens, Kensington</td>\n",
              "    </tr>\n",
              "    <tr>\n",
              "      <th>2</th>\n",
              "      <td>3</td>\n",
              "      <td>32</td>\n",
              "      <td>51.521283</td>\n",
              "      <td>-0.084605</td>\n",
              "      <td>Christopher Street, Liverpool Street</td>\n",
              "    </tr>\n",
              "    <tr>\n",
              "      <th>3</th>\n",
              "      <td>4</td>\n",
              "      <td>23</td>\n",
              "      <td>51.530059</td>\n",
              "      <td>-0.120973</td>\n",
              "      <td>St. Chad's Street, King's Cross</td>\n",
              "    </tr>\n",
              "    <tr>\n",
              "      <th>4</th>\n",
              "      <td>5</td>\n",
              "      <td>27</td>\n",
              "      <td>51.493130</td>\n",
              "      <td>-0.156876</td>\n",
              "      <td>Sedding Street, Sloane Square</td>\n",
              "    </tr>\n",
              "  </tbody>\n",
              "</table>\n",
              "</div>\n",
              "      <button class=\"colab-df-convert\" onclick=\"convertToInteractive('df-fa442848-a420-41d5-b411-992cfb8a7a42')\"\n",
              "              title=\"Convert this dataframe to an interactive table.\"\n",
              "              style=\"display:none;\">\n",
              "        \n",
              "  <svg xmlns=\"http://www.w3.org/2000/svg\" height=\"24px\"viewBox=\"0 0 24 24\"\n",
              "       width=\"24px\">\n",
              "    <path d=\"M0 0h24v24H0V0z\" fill=\"none\"/>\n",
              "    <path d=\"M18.56 5.44l.94 2.06.94-2.06 2.06-.94-2.06-.94-.94-2.06-.94 2.06-2.06.94zm-11 1L8.5 8.5l.94-2.06 2.06-.94-2.06-.94L8.5 2.5l-.94 2.06-2.06.94zm10 10l.94 2.06.94-2.06 2.06-.94-2.06-.94-.94-2.06-.94 2.06-2.06.94z\"/><path d=\"M17.41 7.96l-1.37-1.37c-.4-.4-.92-.59-1.43-.59-.52 0-1.04.2-1.43.59L10.3 9.45l-7.72 7.72c-.78.78-.78 2.05 0 2.83L4 21.41c.39.39.9.59 1.41.59.51 0 1.02-.2 1.41-.59l7.78-7.78 2.81-2.81c.8-.78.8-2.07 0-2.86zM5.41 20L4 18.59l7.72-7.72 1.47 1.35L5.41 20z\"/>\n",
              "  </svg>\n",
              "      </button>\n",
              "      \n",
              "  <style>\n",
              "    .colab-df-container {\n",
              "      display:flex;\n",
              "      flex-wrap:wrap;\n",
              "      gap: 12px;\n",
              "    }\n",
              "\n",
              "    .colab-df-convert {\n",
              "      background-color: #E8F0FE;\n",
              "      border: none;\n",
              "      border-radius: 50%;\n",
              "      cursor: pointer;\n",
              "      display: none;\n",
              "      fill: #1967D2;\n",
              "      height: 32px;\n",
              "      padding: 0 0 0 0;\n",
              "      width: 32px;\n",
              "    }\n",
              "\n",
              "    .colab-df-convert:hover {\n",
              "      background-color: #E2EBFA;\n",
              "      box-shadow: 0px 1px 2px rgba(60, 64, 67, 0.3), 0px 1px 3px 1px rgba(60, 64, 67, 0.15);\n",
              "      fill: #174EA6;\n",
              "    }\n",
              "\n",
              "    [theme=dark] .colab-df-convert {\n",
              "      background-color: #3B4455;\n",
              "      fill: #D2E3FC;\n",
              "    }\n",
              "\n",
              "    [theme=dark] .colab-df-convert:hover {\n",
              "      background-color: #434B5C;\n",
              "      box-shadow: 0px 1px 3px 1px rgba(0, 0, 0, 0.15);\n",
              "      filter: drop-shadow(0px 1px 2px rgba(0, 0, 0, 0.3));\n",
              "      fill: #FFFFFF;\n",
              "    }\n",
              "  </style>\n",
              "\n",
              "      <script>\n",
              "        const buttonEl =\n",
              "          document.querySelector('#df-fa442848-a420-41d5-b411-992cfb8a7a42 button.colab-df-convert');\n",
              "        buttonEl.style.display =\n",
              "          google.colab.kernel.accessAllowed ? 'block' : 'none';\n",
              "\n",
              "        async function convertToInteractive(key) {\n",
              "          const element = document.querySelector('#df-fa442848-a420-41d5-b411-992cfb8a7a42');\n",
              "          const dataTable =\n",
              "            await google.colab.kernel.invokeFunction('convertToInteractive',\n",
              "                                                     [key], {});\n",
              "          if (!dataTable) return;\n",
              "\n",
              "          const docLinkHtml = 'Like what you see? Visit the ' +\n",
              "            '<a target=\"_blank\" href=https://colab.research.google.com/notebooks/data_table.ipynb>data table notebook</a>'\n",
              "            + ' to learn more about interactive tables.';\n",
              "          element.innerHTML = '';\n",
              "          dataTable['output_type'] = 'display_data';\n",
              "          await google.colab.output.renderOutput(dataTable, element);\n",
              "          const docLink = document.createElement('div');\n",
              "          docLink.innerHTML = docLinkHtml;\n",
              "          element.appendChild(docLink);\n",
              "        }\n",
              "      </script>\n",
              "    </div>\n",
              "  </div>\n",
              "  "
            ]
          },
          "metadata": {},
          "execution_count": 6
        }
      ]
    },
    {
      "cell_type": "markdown",
      "source": [
        "I can already see that the Station ID can is a foreign key between bike stations and bike journeys. I am expecting to use a join to get all the data in one flat table."
      ],
      "metadata": {
        "id": "kc6AImYtfBqs"
      }
    },
    {
      "cell_type": "code",
      "source": [
        "bike_stations.shape"
      ],
      "metadata": {
        "colab": {
          "base_uri": "https://localhost:8080/"
        },
        "id": "fRQGA_S6Q51a",
        "outputId": "8b5c25dd-e3f2-47eb-95cf-0f2f51e3ce92"
      },
      "execution_count": 7,
      "outputs": [
        {
          "output_type": "execute_result",
          "data": {
            "text/plain": [
              "(773, 5)"
            ]
          },
          "metadata": {},
          "execution_count": 7
        }
      ]
    },
    {
      "cell_type": "markdown",
      "source": [
        "### Weather"
      ],
      "metadata": {
        "id": "U_EnJ5lVjYrH"
      }
    },
    {
      "cell_type": "code",
      "source": [
        "weather.head()"
      ],
      "metadata": {
        "colab": {
          "base_uri": "https://localhost:8080/",
          "height": 206
        },
        "id": "SCfMPuGcimcd",
        "outputId": "cbdc0644-16b1-49a8-a567-8e34c1929755"
      },
      "execution_count": 8,
      "outputs": [
        {
          "output_type": "execute_result",
          "data": {
            "text/plain": [
              "   LATITUDE  LONGITUDE        DATE  PRCP (MM)  TAVG (CELSIUS)\n",
              "0    51.478     -0.461  01/08/2017        0.0            17.1\n",
              "1    51.478     -0.461  02/08/2017        0.8            16.8\n",
              "2    51.478     -0.461  03/08/2017        7.1            18.4\n",
              "3    51.478     -0.461  04/08/2017        0.0            18.3\n",
              "4    51.478     -0.461  05/08/2017        0.0            16.8"
            ],
            "text/html": [
              "\n",
              "  <div id=\"df-68cb8ab5-4220-4965-bffb-0df194fb536f\">\n",
              "    <div class=\"colab-df-container\">\n",
              "      <div>\n",
              "<style scoped>\n",
              "    .dataframe tbody tr th:only-of-type {\n",
              "        vertical-align: middle;\n",
              "    }\n",
              "\n",
              "    .dataframe tbody tr th {\n",
              "        vertical-align: top;\n",
              "    }\n",
              "\n",
              "    .dataframe thead th {\n",
              "        text-align: right;\n",
              "    }\n",
              "</style>\n",
              "<table border=\"1\" class=\"dataframe\">\n",
              "  <thead>\n",
              "    <tr style=\"text-align: right;\">\n",
              "      <th></th>\n",
              "      <th>LATITUDE</th>\n",
              "      <th>LONGITUDE</th>\n",
              "      <th>DATE</th>\n",
              "      <th>PRCP (MM)</th>\n",
              "      <th>TAVG (CELSIUS)</th>\n",
              "    </tr>\n",
              "  </thead>\n",
              "  <tbody>\n",
              "    <tr>\n",
              "      <th>0</th>\n",
              "      <td>51.478</td>\n",
              "      <td>-0.461</td>\n",
              "      <td>01/08/2017</td>\n",
              "      <td>0.0</td>\n",
              "      <td>17.1</td>\n",
              "    </tr>\n",
              "    <tr>\n",
              "      <th>1</th>\n",
              "      <td>51.478</td>\n",
              "      <td>-0.461</td>\n",
              "      <td>02/08/2017</td>\n",
              "      <td>0.8</td>\n",
              "      <td>16.8</td>\n",
              "    </tr>\n",
              "    <tr>\n",
              "      <th>2</th>\n",
              "      <td>51.478</td>\n",
              "      <td>-0.461</td>\n",
              "      <td>03/08/2017</td>\n",
              "      <td>7.1</td>\n",
              "      <td>18.4</td>\n",
              "    </tr>\n",
              "    <tr>\n",
              "      <th>3</th>\n",
              "      <td>51.478</td>\n",
              "      <td>-0.461</td>\n",
              "      <td>04/08/2017</td>\n",
              "      <td>0.0</td>\n",
              "      <td>18.3</td>\n",
              "    </tr>\n",
              "    <tr>\n",
              "      <th>4</th>\n",
              "      <td>51.478</td>\n",
              "      <td>-0.461</td>\n",
              "      <td>05/08/2017</td>\n",
              "      <td>0.0</td>\n",
              "      <td>16.8</td>\n",
              "    </tr>\n",
              "  </tbody>\n",
              "</table>\n",
              "</div>\n",
              "      <button class=\"colab-df-convert\" onclick=\"convertToInteractive('df-68cb8ab5-4220-4965-bffb-0df194fb536f')\"\n",
              "              title=\"Convert this dataframe to an interactive table.\"\n",
              "              style=\"display:none;\">\n",
              "        \n",
              "  <svg xmlns=\"http://www.w3.org/2000/svg\" height=\"24px\"viewBox=\"0 0 24 24\"\n",
              "       width=\"24px\">\n",
              "    <path d=\"M0 0h24v24H0V0z\" fill=\"none\"/>\n",
              "    <path d=\"M18.56 5.44l.94 2.06.94-2.06 2.06-.94-2.06-.94-.94-2.06-.94 2.06-2.06.94zm-11 1L8.5 8.5l.94-2.06 2.06-.94-2.06-.94L8.5 2.5l-.94 2.06-2.06.94zm10 10l.94 2.06.94-2.06 2.06-.94-2.06-.94-.94-2.06-.94 2.06-2.06.94z\"/><path d=\"M17.41 7.96l-1.37-1.37c-.4-.4-.92-.59-1.43-.59-.52 0-1.04.2-1.43.59L10.3 9.45l-7.72 7.72c-.78.78-.78 2.05 0 2.83L4 21.41c.39.39.9.59 1.41.59.51 0 1.02-.2 1.41-.59l7.78-7.78 2.81-2.81c.8-.78.8-2.07 0-2.86zM5.41 20L4 18.59l7.72-7.72 1.47 1.35L5.41 20z\"/>\n",
              "  </svg>\n",
              "      </button>\n",
              "      \n",
              "  <style>\n",
              "    .colab-df-container {\n",
              "      display:flex;\n",
              "      flex-wrap:wrap;\n",
              "      gap: 12px;\n",
              "    }\n",
              "\n",
              "    .colab-df-convert {\n",
              "      background-color: #E8F0FE;\n",
              "      border: none;\n",
              "      border-radius: 50%;\n",
              "      cursor: pointer;\n",
              "      display: none;\n",
              "      fill: #1967D2;\n",
              "      height: 32px;\n",
              "      padding: 0 0 0 0;\n",
              "      width: 32px;\n",
              "    }\n",
              "\n",
              "    .colab-df-convert:hover {\n",
              "      background-color: #E2EBFA;\n",
              "      box-shadow: 0px 1px 2px rgba(60, 64, 67, 0.3), 0px 1px 3px 1px rgba(60, 64, 67, 0.15);\n",
              "      fill: #174EA6;\n",
              "    }\n",
              "\n",
              "    [theme=dark] .colab-df-convert {\n",
              "      background-color: #3B4455;\n",
              "      fill: #D2E3FC;\n",
              "    }\n",
              "\n",
              "    [theme=dark] .colab-df-convert:hover {\n",
              "      background-color: #434B5C;\n",
              "      box-shadow: 0px 1px 3px 1px rgba(0, 0, 0, 0.15);\n",
              "      filter: drop-shadow(0px 1px 2px rgba(0, 0, 0, 0.3));\n",
              "      fill: #FFFFFF;\n",
              "    }\n",
              "  </style>\n",
              "\n",
              "      <script>\n",
              "        const buttonEl =\n",
              "          document.querySelector('#df-68cb8ab5-4220-4965-bffb-0df194fb536f button.colab-df-convert');\n",
              "        buttonEl.style.display =\n",
              "          google.colab.kernel.accessAllowed ? 'block' : 'none';\n",
              "\n",
              "        async function convertToInteractive(key) {\n",
              "          const element = document.querySelector('#df-68cb8ab5-4220-4965-bffb-0df194fb536f');\n",
              "          const dataTable =\n",
              "            await google.colab.kernel.invokeFunction('convertToInteractive',\n",
              "                                                     [key], {});\n",
              "          if (!dataTable) return;\n",
              "\n",
              "          const docLinkHtml = 'Like what you see? Visit the ' +\n",
              "            '<a target=\"_blank\" href=https://colab.research.google.com/notebooks/data_table.ipynb>data table notebook</a>'\n",
              "            + ' to learn more about interactive tables.';\n",
              "          element.innerHTML = '';\n",
              "          dataTable['output_type'] = 'display_data';\n",
              "          await google.colab.output.renderOutput(dataTable, element);\n",
              "          const docLink = document.createElement('div');\n",
              "          docLink.innerHTML = docLinkHtml;\n",
              "          element.appendChild(docLink);\n",
              "        }\n",
              "      </script>\n",
              "    </div>\n",
              "  </div>\n",
              "  "
            ]
          },
          "metadata": {},
          "execution_count": 8
        }
      ]
    },
    {
      "cell_type": "markdown",
      "source": [
        "The way the date is formated in this dataset differs from the bike journeys data set so this will have to be changed so I can join these datasets. Also this dataset includes dates from august when all of the bike journeys take place in september so that will be omitted as it is not needed. Also, this data only tells the average temperature and precipitation which..."
      ],
      "metadata": {
        "id": "acgeHilAfey6"
      }
    },
    {
      "cell_type": "code",
      "source": [
        "weather.shape"
      ],
      "metadata": {
        "colab": {
          "base_uri": "https://localhost:8080/"
        },
        "id": "gsirP3ibRI-U",
        "outputId": "e51862f9-a2fd-4022-be2a-d795ffd9c25c"
      },
      "execution_count": 9,
      "outputs": [
        {
          "output_type": "execute_result",
          "data": {
            "text/plain": [
              "(44, 5)"
            ]
          },
          "metadata": {},
          "execution_count": 9
        }
      ]
    },
    {
      "cell_type": "markdown",
      "source": [
        "## Data Preparation"
      ],
      "metadata": {
        "id": "OIdV5MmVgzJX"
      }
    },
    {
      "cell_type": "code",
      "source": [
        "# The use of these 2 methods together checks if there are missing values in any of the columns\n",
        "bike_journeys.isnull().any() "
      ],
      "metadata": {
        "id": "inhMtlA6iZaI",
        "colab": {
          "base_uri": "https://localhost:8080/"
        },
        "outputId": "84742bd0-3eb0-476e-c973-82edabbf90fd"
      },
      "execution_count": 10,
      "outputs": [
        {
          "output_type": "execute_result",
          "data": {
            "text/plain": [
              "Journey Duration    False\n",
              "Journey ID          False\n",
              "End Date            False\n",
              "End Month           False\n",
              "End Year            False\n",
              "End Hour            False\n",
              "End Minute          False\n",
              "End Station ID      False\n",
              "Start Date          False\n",
              "Start Month         False\n",
              "Start Year          False\n",
              "Start Hour          False\n",
              "Start Minute        False\n",
              "Start Station ID    False\n",
              "dtype: bool"
            ]
          },
          "metadata": {},
          "execution_count": 10
        }
      ]
    },
    {
      "cell_type": "markdown",
      "source": [
        "Initally I want to check if there are any missing data in any of the columns since it could most probably be lowering the data quality. However, other alternatives to just droping the rows of data could be looked into.Depending on factors such as where the missing data lies (e.g, if the station ID's are missing that is major factor for the outcomes but if the start hour is missing but there is still the journey duration the data could be filled.) this also depends on how much missing data there is could tell me if it worth going through these changes."
      ],
      "metadata": {
        "id": "gVLgiI20mwVC"
      }
    },
    {
      "cell_type": "code",
      "source": [
        "bike_stations.isnull().any()"
      ],
      "metadata": {
        "id": "aIxqWB-2mnZ8",
        "colab": {
          "base_uri": "https://localhost:8080/"
        },
        "outputId": "3b2a894c-6f2f-470c-de02-092ad42e260d"
      },
      "execution_count": 11,
      "outputs": [
        {
          "output_type": "execute_result",
          "data": {
            "text/plain": [
              "Station ID      False\n",
              "Capacity        False\n",
              "Latitude        False\n",
              "Longitude       False\n",
              "Station Name    False\n",
              "dtype: bool"
            ]
          },
          "metadata": {},
          "execution_count": 11
        }
      ]
    },
    {
      "cell_type": "code",
      "source": [
        "weather.isnull().any()"
      ],
      "metadata": {
        "id": "Jeg514V5mrpE",
        "colab": {
          "base_uri": "https://localhost:8080/"
        },
        "outputId": "e28f7492-98f3-4bf8-b237-0e3a8da94343"
      },
      "execution_count": 12,
      "outputs": [
        {
          "output_type": "execute_result",
          "data": {
            "text/plain": [
              "LATITUDE          False\n",
              "LONGITUDE         False\n",
              "DATE              False\n",
              "PRCP (MM)         False\n",
              "TAVG (CELSIUS)    False\n",
              "dtype: bool"
            ]
          },
          "metadata": {},
          "execution_count": 12
        }
      ]
    },
    {
      "cell_type": "markdown",
      "source": [
        "I want to join the all datasets into oneto have all the data in one flat table so I can use statistical and visualise methods seamlessly. I know that to join the bike stations and journey ID i can join them through the station ID's. The weather dataset does not have an explicit column I can use to join. A merge using pandas is posible but the query flexibility and speed of SQL joins will be more useful in the circumstanc.\n",
        "\n",
        "I write a SQL script in the sqlite3 interface that turns the date columns into the date format DD/MM/YYYY and drop the columns that are now uneccessary. Also if I am formatting the date it would make the data more clean to format the times also.\n",
        "\n",
        "\n",
        "\n",
        "\n",
        "**Adds the columns to the table**\n",
        "```\n",
        "ALTER TABLE bike_journeys_formatted ADD COLUMN formatted_start_date TEXT;\n",
        "ALTER TABLE bike_journeys_formatted ADD COLUMN formatted_end_date TEXT;\n",
        "ALTER TABLE bike_journeys_formatted ADD COLUMN start_time TEXT;\n",
        "ALTER TABLE bike_journeys_formatted ADD COLUMN end_time TEXT;\n",
        "```\n",
        "\n",
        "\n",
        "\n",
        "**This uses the columns to make the date in the DD/MM/YYYY format and if the month or date is a single character it adds 0 to the front. 2000 is added to the year to fit the format.**\n",
        "```\n",
        "UPDATE bike_journeys_formatted\n",
        "SET formatted_start_date = CASE\n",
        "  WHEN LENGTH(\"Start Date\") = 1 AND LENGTH(\"Start Month\") = 1 THEN '0'||\"Start Date\"||'/0'||\"Start Month\"||'/'||(\"Start Year\"+2000)\n",
        "  WHEN LENGTH(\"Start Date\") = 1 THEN '0'||\"Start Date\"||'/'||\"Start Month\"||'/'||(\"Start Year\"+2000)\n",
        "  WHEN LENGTH(\"Start Month\") = 1 THEN \"Start Date\"||'/0'||\"Start Month\"||'/'||(\"Start Year\"+2000)\n",
        "  ELSE \"Start Date\"||'/'||\"Start Month\"||'/'||(\"Start Year\"+2000)\n",
        "END,\n",
        "formatted_end_date = CASE\n",
        "  WHEN LENGTH(\"End Date\") = 1 AND LENGTH(\"End Month\") = 1 THEN '0'||\"End Date\"||'/0'||\"End Month\"||'/'||(\"End Year\"+2000)\n",
        "  WHEN LENGTH(\"End Date\") = 1 THEN '0'||\"End Date\"||'/'||\"End Month\"||'/'||(\"End Year\"+2000)\n",
        "  WHEN LENGTH(\"End Month\") = 1 THEN \"End Date\"||'/0'||\"End Month\"||'/'||(\"End Year\"+2000)\n",
        "  ELSE \"End Date\"||'/'||\"End Month\"||'/'||(\"End Year\"+2000)\n",
        "END;\n",
        "\n",
        "```\n",
        "**The times are formatted to HH:MM using the respective Hour and Minute columns**\n",
        "\n",
        "\n",
        "\n",
        "```\n",
        "# UPDATE bike_journeys_formatted\n",
        "SET end_time = CASE\n",
        "                WHEN \"End Hour\" < 10 THEN '0'||\"End Hour\"\n",
        "                ELSE \"End Hour\"\n",
        "              END\n",
        "              || ':'\n",
        "              || CASE\n",
        "                   WHEN \"End Minute\" < 10 THEN '0'||\"End Minute\"\n",
        "                   ELSE \"End Minute\"\n",
        "                 END,\n",
        "    start_time = CASE\n",
        "                  WHEN \"Start Hour\" < 10 THEN '0'||\"Start Hour\"\n",
        "                  ELSE \"Start Hour\"\n",
        "                END\n",
        "                || ':'\n",
        "                || CASE\n",
        "                     WHEN \"Start Minute\" < 10 THEN '0'||\"Start Minute\"\n",
        "                     ELSE \"Start Minute\"\n",
        "                   END;\n",
        "```\n",
        "\n",
        "\n",
        "\n",
        "\n",
        "\n",
        "\n",
        "\n",
        "**Then the old columns are dropped**\n",
        "\n",
        "```\n",
        "ALTER TABLE bike_journeys_formatted\n",
        "DROP COLUMN \"End Date\";\n",
        "ALTER TABLE bike_journeys_formatted\n",
        "DROP COLUMN \"End Month\";\n",
        "ALTER TABLE bike_journeys_formatted\n",
        "DROP COLUMN \"End Year\";\n",
        "ALTER TABLE bike_journeys_formatted\n",
        "DROP COLUMN \"Start Date\";\n",
        "ALTER TABLE bike_journeys_formatted\n",
        "DROP COLUMN \"Start Month\";\n",
        "ALTER TABLE bike_journeys_formatted\n",
        "DROP COLUMN \"Start Year\";\n",
        "ALTER TABLE bike_journeys_formatted\n",
        "DROP COLUMN \"End Hour\";\n",
        "ALTER TABLE bike_journeys_formatted\n",
        "DROP COLUMN \"End Minute\";\n",
        "ALTER TABLE bike_journeys_formatted\n",
        "DROP COLUMN \"Start Hour\";\n",
        "ALTER TABLE bike_journeys_formatted\n",
        "DROP COLUMN \"Start Minute\";\n",
        "```\n",
        "\n",
        "\n",
        "\n",
        "\n",
        "\n",
        "\n",
        "\n"
      ],
      "metadata": {
        "id": "52nVgEDEuA8i"
      }
    },
    {
      "cell_type": "code",
      "source": [
        "# This query shows orders the closest station to the furtherst station from the given longitude and latitude \n",
        "pd.read_sql('''SELECT *\n",
        "                FROM bike_stations\n",
        "                ORDER BY ABS([Latitude] - 51.478) + ABS([Longitude] + 0.461)\n",
        "                ;''', conn)\n"
      ],
      "metadata": {
        "colab": {
          "base_uri": "https://localhost:8080/",
          "height": 424
        },
        "id": "f2kUmzvToWrQ",
        "outputId": "5bc430f0-403d-438a-9650-7d2d6ff06c4d"
      },
      "execution_count": 13,
      "outputs": [
        {
          "output_type": "execute_result",
          "data": {
            "text/plain": [
              "     Station ID  Capacity   Latitude  Longitude  \\\n",
              "0           668        26  51.494223  -0.236769   \n",
              "1           753        28  51.492636  -0.234094   \n",
              "2           644        36  51.483732  -0.223852   \n",
              "3           682        46  51.488108  -0.226606   \n",
              "4           599        28  51.485743  -0.223616   \n",
              "..          ...       ...        ...        ...   \n",
              "768         785        64  51.540940  -0.010510   \n",
              "769         787        35  51.546805  -0.014691   \n",
              "770         786        44  51.549369  -0.015717   \n",
              "771         784        34  51.546326  -0.009935   \n",
              "772         790        28  51.541793  -0.004810   \n",
              "\n",
              "                                          Station Name  \n",
              "0                Ravenscourt Park Station, Hammersmith  \n",
              "1                   Hammersmith Town Hall, Hammersmith  \n",
              "2                          Rainville Road, Hammersmith  \n",
              "3                              Crisp Road, Hammersmith  \n",
              "4                             Manbre Road, Hammersmith  \n",
              "..                                                 ...  \n",
              "768       Aquatic Centre, Queen Elizabeth Olympic Park  \n",
              "769         Timber Lodge, Queen Elizabeth Olympic Park  \n",
              "770  Lee Valley VeloPark, Queen Elizabeth Olympic Park  \n",
              "771         East Village, Queen Elizabeth Olympic Park  \n",
              "772                       Stratford Station, Stratford  \n",
              "\n",
              "[773 rows x 5 columns]"
            ],
            "text/html": [
              "\n",
              "  <div id=\"df-36c4dec6-7d99-42e0-9301-a70057798dad\">\n",
              "    <div class=\"colab-df-container\">\n",
              "      <div>\n",
              "<style scoped>\n",
              "    .dataframe tbody tr th:only-of-type {\n",
              "        vertical-align: middle;\n",
              "    }\n",
              "\n",
              "    .dataframe tbody tr th {\n",
              "        vertical-align: top;\n",
              "    }\n",
              "\n",
              "    .dataframe thead th {\n",
              "        text-align: right;\n",
              "    }\n",
              "</style>\n",
              "<table border=\"1\" class=\"dataframe\">\n",
              "  <thead>\n",
              "    <tr style=\"text-align: right;\">\n",
              "      <th></th>\n",
              "      <th>Station ID</th>\n",
              "      <th>Capacity</th>\n",
              "      <th>Latitude</th>\n",
              "      <th>Longitude</th>\n",
              "      <th>Station Name</th>\n",
              "    </tr>\n",
              "  </thead>\n",
              "  <tbody>\n",
              "    <tr>\n",
              "      <th>0</th>\n",
              "      <td>668</td>\n",
              "      <td>26</td>\n",
              "      <td>51.494223</td>\n",
              "      <td>-0.236769</td>\n",
              "      <td>Ravenscourt Park Station, Hammersmith</td>\n",
              "    </tr>\n",
              "    <tr>\n",
              "      <th>1</th>\n",
              "      <td>753</td>\n",
              "      <td>28</td>\n",
              "      <td>51.492636</td>\n",
              "      <td>-0.234094</td>\n",
              "      <td>Hammersmith Town Hall, Hammersmith</td>\n",
              "    </tr>\n",
              "    <tr>\n",
              "      <th>2</th>\n",
              "      <td>644</td>\n",
              "      <td>36</td>\n",
              "      <td>51.483732</td>\n",
              "      <td>-0.223852</td>\n",
              "      <td>Rainville Road, Hammersmith</td>\n",
              "    </tr>\n",
              "    <tr>\n",
              "      <th>3</th>\n",
              "      <td>682</td>\n",
              "      <td>46</td>\n",
              "      <td>51.488108</td>\n",
              "      <td>-0.226606</td>\n",
              "      <td>Crisp Road, Hammersmith</td>\n",
              "    </tr>\n",
              "    <tr>\n",
              "      <th>4</th>\n",
              "      <td>599</td>\n",
              "      <td>28</td>\n",
              "      <td>51.485743</td>\n",
              "      <td>-0.223616</td>\n",
              "      <td>Manbre Road, Hammersmith</td>\n",
              "    </tr>\n",
              "    <tr>\n",
              "      <th>...</th>\n",
              "      <td>...</td>\n",
              "      <td>...</td>\n",
              "      <td>...</td>\n",
              "      <td>...</td>\n",
              "      <td>...</td>\n",
              "    </tr>\n",
              "    <tr>\n",
              "      <th>768</th>\n",
              "      <td>785</td>\n",
              "      <td>64</td>\n",
              "      <td>51.540940</td>\n",
              "      <td>-0.010510</td>\n",
              "      <td>Aquatic Centre, Queen Elizabeth Olympic Park</td>\n",
              "    </tr>\n",
              "    <tr>\n",
              "      <th>769</th>\n",
              "      <td>787</td>\n",
              "      <td>35</td>\n",
              "      <td>51.546805</td>\n",
              "      <td>-0.014691</td>\n",
              "      <td>Timber Lodge, Queen Elizabeth Olympic Park</td>\n",
              "    </tr>\n",
              "    <tr>\n",
              "      <th>770</th>\n",
              "      <td>786</td>\n",
              "      <td>44</td>\n",
              "      <td>51.549369</td>\n",
              "      <td>-0.015717</td>\n",
              "      <td>Lee Valley VeloPark, Queen Elizabeth Olympic Park</td>\n",
              "    </tr>\n",
              "    <tr>\n",
              "      <th>771</th>\n",
              "      <td>784</td>\n",
              "      <td>34</td>\n",
              "      <td>51.546326</td>\n",
              "      <td>-0.009935</td>\n",
              "      <td>East Village, Queen Elizabeth Olympic Park</td>\n",
              "    </tr>\n",
              "    <tr>\n",
              "      <th>772</th>\n",
              "      <td>790</td>\n",
              "      <td>28</td>\n",
              "      <td>51.541793</td>\n",
              "      <td>-0.004810</td>\n",
              "      <td>Stratford Station, Stratford</td>\n",
              "    </tr>\n",
              "  </tbody>\n",
              "</table>\n",
              "<p>773 rows × 5 columns</p>\n",
              "</div>\n",
              "      <button class=\"colab-df-convert\" onclick=\"convertToInteractive('df-36c4dec6-7d99-42e0-9301-a70057798dad')\"\n",
              "              title=\"Convert this dataframe to an interactive table.\"\n",
              "              style=\"display:none;\">\n",
              "        \n",
              "  <svg xmlns=\"http://www.w3.org/2000/svg\" height=\"24px\"viewBox=\"0 0 24 24\"\n",
              "       width=\"24px\">\n",
              "    <path d=\"M0 0h24v24H0V0z\" fill=\"none\"/>\n",
              "    <path d=\"M18.56 5.44l.94 2.06.94-2.06 2.06-.94-2.06-.94-.94-2.06-.94 2.06-2.06.94zm-11 1L8.5 8.5l.94-2.06 2.06-.94-2.06-.94L8.5 2.5l-.94 2.06-2.06.94zm10 10l.94 2.06.94-2.06 2.06-.94-2.06-.94-.94-2.06-.94 2.06-2.06.94z\"/><path d=\"M17.41 7.96l-1.37-1.37c-.4-.4-.92-.59-1.43-.59-.52 0-1.04.2-1.43.59L10.3 9.45l-7.72 7.72c-.78.78-.78 2.05 0 2.83L4 21.41c.39.39.9.59 1.41.59.51 0 1.02-.2 1.41-.59l7.78-7.78 2.81-2.81c.8-.78.8-2.07 0-2.86zM5.41 20L4 18.59l7.72-7.72 1.47 1.35L5.41 20z\"/>\n",
              "  </svg>\n",
              "      </button>\n",
              "      \n",
              "  <style>\n",
              "    .colab-df-container {\n",
              "      display:flex;\n",
              "      flex-wrap:wrap;\n",
              "      gap: 12px;\n",
              "    }\n",
              "\n",
              "    .colab-df-convert {\n",
              "      background-color: #E8F0FE;\n",
              "      border: none;\n",
              "      border-radius: 50%;\n",
              "      cursor: pointer;\n",
              "      display: none;\n",
              "      fill: #1967D2;\n",
              "      height: 32px;\n",
              "      padding: 0 0 0 0;\n",
              "      width: 32px;\n",
              "    }\n",
              "\n",
              "    .colab-df-convert:hover {\n",
              "      background-color: #E2EBFA;\n",
              "      box-shadow: 0px 1px 2px rgba(60, 64, 67, 0.3), 0px 1px 3px 1px rgba(60, 64, 67, 0.15);\n",
              "      fill: #174EA6;\n",
              "    }\n",
              "\n",
              "    [theme=dark] .colab-df-convert {\n",
              "      background-color: #3B4455;\n",
              "      fill: #D2E3FC;\n",
              "    }\n",
              "\n",
              "    [theme=dark] .colab-df-convert:hover {\n",
              "      background-color: #434B5C;\n",
              "      box-shadow: 0px 1px 3px 1px rgba(0, 0, 0, 0.15);\n",
              "      filter: drop-shadow(0px 1px 2px rgba(0, 0, 0, 0.3));\n",
              "      fill: #FFFFFF;\n",
              "    }\n",
              "  </style>\n",
              "\n",
              "      <script>\n",
              "        const buttonEl =\n",
              "          document.querySelector('#df-36c4dec6-7d99-42e0-9301-a70057798dad button.colab-df-convert');\n",
              "        buttonEl.style.display =\n",
              "          google.colab.kernel.accessAllowed ? 'block' : 'none';\n",
              "\n",
              "        async function convertToInteractive(key) {\n",
              "          const element = document.querySelector('#df-36c4dec6-7d99-42e0-9301-a70057798dad');\n",
              "          const dataTable =\n",
              "            await google.colab.kernel.invokeFunction('convertToInteractive',\n",
              "                                                     [key], {});\n",
              "          if (!dataTable) return;\n",
              "\n",
              "          const docLinkHtml = 'Like what you see? Visit the ' +\n",
              "            '<a target=\"_blank\" href=https://colab.research.google.com/notebooks/data_table.ipynb>data table notebook</a>'\n",
              "            + ' to learn more about interactive tables.';\n",
              "          element.innerHTML = '';\n",
              "          dataTable['output_type'] = 'display_data';\n",
              "          await google.colab.output.renderOutput(dataTable, element);\n",
              "          const docLink = document.createElement('div');\n",
              "          docLink.innerHTML = docLinkHtml;\n",
              "          element.appendChild(docLink);\n",
              "        }\n",
              "      </script>\n",
              "    </div>\n",
              "  </div>\n",
              "  "
            ]
          },
          "metadata": {},
          "execution_count": 13
        }
      ]
    },
    {
      "cell_type": "markdown",
      "source": [
        "Using an online google maps I calculated the distance to the furthest station and the given longitude and latitude in the weather dataset (20.11 miles). This still falls under the london GPE so the weather could be taken under consideration with every journey. The time not being a part of of the date is still an issue."
      ],
      "metadata": {
        "id": "8l0EOQgf40CC"
      }
    },
    {
      "cell_type": "code",
      "source": [
        "#Joins all three datasets\n",
        "combined_data = pd.read_sql('''SELECT *\n",
        "                               FROM bike_journeys_formatted\n",
        "                               JOIN bike_stations ON bike_journeys_formatted.[Start Station ID] = bike_stations.[Station ID]\n",
        "                               JOIN weather ON bike_journeys_formatted.formatted_start_date = weather.DATE;\n",
        "                               ''', conn)\n",
        "# Removes irrelevant columns\n",
        "combined_data = combined_data.drop(columns=[\"DATE\", \"LONGITUDE\", \"LATITUDE\",\"Journey ID\"])\n",
        "# Changes journey duration measurement from seconds to minutes\n",
        "combined_data['Journey Duration'] = combined_data['Journey Duration'] / 60\n",
        "# Turns columns to lowercase and use underscores instead of spaces\n",
        "combined_data.columns = [c.replace(' ', '_').lower() for c in combined_data.columns]\n",
        "combined_data.head()"
      ],
      "metadata": {
        "colab": {
          "base_uri": "https://localhost:8080/",
          "height": 461
        },
        "id": "GrGZYa9L9fXl",
        "outputId": "e36e5cd5-c201-411b-afc9-04d5fb581da7"
      },
      "execution_count": 14,
      "outputs": [
        {
          "output_type": "execute_result",
          "data": {
            "text/plain": [
              "   journey_duration  end_station_id  start_station_id formatted_start_date  \\\n",
              "0              20.0             605                36           13/09/2017   \n",
              "1              15.0             298               154           13/09/2017   \n",
              "2               8.0             194               156           13/09/2017   \n",
              "3               8.0             194               156           13/09/2017   \n",
              "4              11.0             368               307           13/09/2017   \n",
              "\n",
              "  formatted_end_date start_time end_time  station_id  capacity   latitude  \\\n",
              "0         13/09/2017      19:13    19:33          36        28  51.501737   \n",
              "1         13/09/2017      08:17    08:32         154        35  51.503791   \n",
              "2         13/09/2017      15:23    15:31         156        33  51.494436   \n",
              "3         13/09/2017      15:23    15:31         156        33  51.494436   \n",
              "4         13/09/2017      08:31    08:42         307        24  51.509908   \n",
              "\n",
              "   longitude                         station_name  prcp_(mm)  tavg_(celsius)  \n",
              "0  -0.184980          De Vere Gardens, Kensington        2.5            14.8  \n",
              "1  -0.112824         Waterloo Station 3, Waterloo        2.5            14.8  \n",
              "2  -0.092921           New Kent Road, The Borough        2.5            14.8  \n",
              "3  -0.092921           New Kent Road, The Borough        2.5            14.8  \n",
              "4  -0.187842  Black Lion Gate, Kensington Gardens        2.5            14.8  "
            ],
            "text/html": [
              "\n",
              "  <div id=\"df-1703ff85-4811-4308-907d-ad72052838ab\">\n",
              "    <div class=\"colab-df-container\">\n",
              "      <div>\n",
              "<style scoped>\n",
              "    .dataframe tbody tr th:only-of-type {\n",
              "        vertical-align: middle;\n",
              "    }\n",
              "\n",
              "    .dataframe tbody tr th {\n",
              "        vertical-align: top;\n",
              "    }\n",
              "\n",
              "    .dataframe thead th {\n",
              "        text-align: right;\n",
              "    }\n",
              "</style>\n",
              "<table border=\"1\" class=\"dataframe\">\n",
              "  <thead>\n",
              "    <tr style=\"text-align: right;\">\n",
              "      <th></th>\n",
              "      <th>journey_duration</th>\n",
              "      <th>end_station_id</th>\n",
              "      <th>start_station_id</th>\n",
              "      <th>formatted_start_date</th>\n",
              "      <th>formatted_end_date</th>\n",
              "      <th>start_time</th>\n",
              "      <th>end_time</th>\n",
              "      <th>station_id</th>\n",
              "      <th>capacity</th>\n",
              "      <th>latitude</th>\n",
              "      <th>longitude</th>\n",
              "      <th>station_name</th>\n",
              "      <th>prcp_(mm)</th>\n",
              "      <th>tavg_(celsius)</th>\n",
              "    </tr>\n",
              "  </thead>\n",
              "  <tbody>\n",
              "    <tr>\n",
              "      <th>0</th>\n",
              "      <td>20.0</td>\n",
              "      <td>605</td>\n",
              "      <td>36</td>\n",
              "      <td>13/09/2017</td>\n",
              "      <td>13/09/2017</td>\n",
              "      <td>19:13</td>\n",
              "      <td>19:33</td>\n",
              "      <td>36</td>\n",
              "      <td>28</td>\n",
              "      <td>51.501737</td>\n",
              "      <td>-0.184980</td>\n",
              "      <td>De Vere Gardens, Kensington</td>\n",
              "      <td>2.5</td>\n",
              "      <td>14.8</td>\n",
              "    </tr>\n",
              "    <tr>\n",
              "      <th>1</th>\n",
              "      <td>15.0</td>\n",
              "      <td>298</td>\n",
              "      <td>154</td>\n",
              "      <td>13/09/2017</td>\n",
              "      <td>13/09/2017</td>\n",
              "      <td>08:17</td>\n",
              "      <td>08:32</td>\n",
              "      <td>154</td>\n",
              "      <td>35</td>\n",
              "      <td>51.503791</td>\n",
              "      <td>-0.112824</td>\n",
              "      <td>Waterloo Station 3, Waterloo</td>\n",
              "      <td>2.5</td>\n",
              "      <td>14.8</td>\n",
              "    </tr>\n",
              "    <tr>\n",
              "      <th>2</th>\n",
              "      <td>8.0</td>\n",
              "      <td>194</td>\n",
              "      <td>156</td>\n",
              "      <td>13/09/2017</td>\n",
              "      <td>13/09/2017</td>\n",
              "      <td>15:23</td>\n",
              "      <td>15:31</td>\n",
              "      <td>156</td>\n",
              "      <td>33</td>\n",
              "      <td>51.494436</td>\n",
              "      <td>-0.092921</td>\n",
              "      <td>New Kent Road, The Borough</td>\n",
              "      <td>2.5</td>\n",
              "      <td>14.8</td>\n",
              "    </tr>\n",
              "    <tr>\n",
              "      <th>3</th>\n",
              "      <td>8.0</td>\n",
              "      <td>194</td>\n",
              "      <td>156</td>\n",
              "      <td>13/09/2017</td>\n",
              "      <td>13/09/2017</td>\n",
              "      <td>15:23</td>\n",
              "      <td>15:31</td>\n",
              "      <td>156</td>\n",
              "      <td>33</td>\n",
              "      <td>51.494436</td>\n",
              "      <td>-0.092921</td>\n",
              "      <td>New Kent Road, The Borough</td>\n",
              "      <td>2.5</td>\n",
              "      <td>14.8</td>\n",
              "    </tr>\n",
              "    <tr>\n",
              "      <th>4</th>\n",
              "      <td>11.0</td>\n",
              "      <td>368</td>\n",
              "      <td>307</td>\n",
              "      <td>13/09/2017</td>\n",
              "      <td>13/09/2017</td>\n",
              "      <td>08:31</td>\n",
              "      <td>08:42</td>\n",
              "      <td>307</td>\n",
              "      <td>24</td>\n",
              "      <td>51.509908</td>\n",
              "      <td>-0.187842</td>\n",
              "      <td>Black Lion Gate, Kensington Gardens</td>\n",
              "      <td>2.5</td>\n",
              "      <td>14.8</td>\n",
              "    </tr>\n",
              "  </tbody>\n",
              "</table>\n",
              "</div>\n",
              "      <button class=\"colab-df-convert\" onclick=\"convertToInteractive('df-1703ff85-4811-4308-907d-ad72052838ab')\"\n",
              "              title=\"Convert this dataframe to an interactive table.\"\n",
              "              style=\"display:none;\">\n",
              "        \n",
              "  <svg xmlns=\"http://www.w3.org/2000/svg\" height=\"24px\"viewBox=\"0 0 24 24\"\n",
              "       width=\"24px\">\n",
              "    <path d=\"M0 0h24v24H0V0z\" fill=\"none\"/>\n",
              "    <path d=\"M18.56 5.44l.94 2.06.94-2.06 2.06-.94-2.06-.94-.94-2.06-.94 2.06-2.06.94zm-11 1L8.5 8.5l.94-2.06 2.06-.94-2.06-.94L8.5 2.5l-.94 2.06-2.06.94zm10 10l.94 2.06.94-2.06 2.06-.94-2.06-.94-.94-2.06-.94 2.06-2.06.94z\"/><path d=\"M17.41 7.96l-1.37-1.37c-.4-.4-.92-.59-1.43-.59-.52 0-1.04.2-1.43.59L10.3 9.45l-7.72 7.72c-.78.78-.78 2.05 0 2.83L4 21.41c.39.39.9.59 1.41.59.51 0 1.02-.2 1.41-.59l7.78-7.78 2.81-2.81c.8-.78.8-2.07 0-2.86zM5.41 20L4 18.59l7.72-7.72 1.47 1.35L5.41 20z\"/>\n",
              "  </svg>\n",
              "      </button>\n",
              "      \n",
              "  <style>\n",
              "    .colab-df-container {\n",
              "      display:flex;\n",
              "      flex-wrap:wrap;\n",
              "      gap: 12px;\n",
              "    }\n",
              "\n",
              "    .colab-df-convert {\n",
              "      background-color: #E8F0FE;\n",
              "      border: none;\n",
              "      border-radius: 50%;\n",
              "      cursor: pointer;\n",
              "      display: none;\n",
              "      fill: #1967D2;\n",
              "      height: 32px;\n",
              "      padding: 0 0 0 0;\n",
              "      width: 32px;\n",
              "    }\n",
              "\n",
              "    .colab-df-convert:hover {\n",
              "      background-color: #E2EBFA;\n",
              "      box-shadow: 0px 1px 2px rgba(60, 64, 67, 0.3), 0px 1px 3px 1px rgba(60, 64, 67, 0.15);\n",
              "      fill: #174EA6;\n",
              "    }\n",
              "\n",
              "    [theme=dark] .colab-df-convert {\n",
              "      background-color: #3B4455;\n",
              "      fill: #D2E3FC;\n",
              "    }\n",
              "\n",
              "    [theme=dark] .colab-df-convert:hover {\n",
              "      background-color: #434B5C;\n",
              "      box-shadow: 0px 1px 3px 1px rgba(0, 0, 0, 0.15);\n",
              "      filter: drop-shadow(0px 1px 2px rgba(0, 0, 0, 0.3));\n",
              "      fill: #FFFFFF;\n",
              "    }\n",
              "  </style>\n",
              "\n",
              "      <script>\n",
              "        const buttonEl =\n",
              "          document.querySelector('#df-1703ff85-4811-4308-907d-ad72052838ab button.colab-df-convert');\n",
              "        buttonEl.style.display =\n",
              "          google.colab.kernel.accessAllowed ? 'block' : 'none';\n",
              "\n",
              "        async function convertToInteractive(key) {\n",
              "          const element = document.querySelector('#df-1703ff85-4811-4308-907d-ad72052838ab');\n",
              "          const dataTable =\n",
              "            await google.colab.kernel.invokeFunction('convertToInteractive',\n",
              "                                                     [key], {});\n",
              "          if (!dataTable) return;\n",
              "\n",
              "          const docLinkHtml = 'Like what you see? Visit the ' +\n",
              "            '<a target=\"_blank\" href=https://colab.research.google.com/notebooks/data_table.ipynb>data table notebook</a>'\n",
              "            + ' to learn more about interactive tables.';\n",
              "          element.innerHTML = '';\n",
              "          dataTable['output_type'] = 'display_data';\n",
              "          await google.colab.output.renderOutput(dataTable, element);\n",
              "          const docLink = document.createElement('div');\n",
              "          docLink.innerHTML = docLinkHtml;\n",
              "          element.appendChild(docLink);\n",
              "        }\n",
              "      </script>\n",
              "    </div>\n",
              "  </div>\n",
              "  "
            ]
          },
          "metadata": {},
          "execution_count": 14
        }
      ]
    },
    {
      "cell_type": "markdown",
      "source": [
        "### Check Data Quality"
      ],
      "metadata": {
        "id": "-iv-itrafOFI"
      }
    },
    {
      "cell_type": "code",
      "source": [
        "# Returns the number of duplicate rows\n",
        "combined_data.duplicated().sum()"
      ],
      "metadata": {
        "colab": {
          "base_uri": "https://localhost:8080/"
        },
        "id": "XOYee-4sfNHI",
        "outputId": "8dd5a699-fa82-4b81-8965-64b4f6212b8f"
      },
      "execution_count": 15,
      "outputs": [
        {
          "output_type": "execute_result",
          "data": {
            "text/plain": [
              "24896"
            ]
          },
          "metadata": {},
          "execution_count": 15
        }
      ]
    },
    {
      "cell_type": "markdown",
      "source": [
        "Duplicates can ruin the accuracy consistensy and credibilty of the data which will likely have an affect on the subsequents models used.In addition the likleyhood of an individual having the same values for each column is extremley low and since there are not many out of more than a million gives a stong rationale that these are error so they can just be removed."
      ],
      "metadata": {
        "id": "0zbF3pXyf5OD"
      }
    },
    {
      "cell_type": "code",
      "source": [
        "# Remove the duplicate rows\n",
        "combined_data = combined_data.drop_duplicates()"
      ],
      "metadata": {
        "id": "Cdiys5_fgFWF"
      },
      "execution_count": 16,
      "outputs": []
    },
    {
      "cell_type": "code",
      "source": [
        "combined_data['journey_duration'].plot.box(vert=False)"
      ],
      "metadata": {
        "colab": {
          "base_uri": "https://localhost:8080/",
          "height": 282
        },
        "id": "dXfQs23W5NUx",
        "outputId": "c84c62d7-f30a-4075-e160-b10f88ef4e38"
      },
      "execution_count": 17,
      "outputs": [
        {
          "output_type": "execute_result",
          "data": {
            "text/plain": [
              "<AxesSubplot:>"
            ]
          },
          "metadata": {},
          "execution_count": 17
        },
        {
          "output_type": "display_data",
          "data": {
            "text/plain": [
              "<Figure size 432x288 with 1 Axes>"
            ],
            "image/png": "[encoded data removed]"
          },
          "metadata": {
            "needs_background": "light"
          }
        }
      ]
    },
    {
      "cell_type": "markdown",
      "source": [
        "This boxplot is not very informative becuase there very large outliers that are squashing the important data. This could be due many reasons but ultimatley the individuals not going to ending bike station for a long time. \n"
      ],
      "metadata": {
        "id": "d6sPNbbm959D"
      }
    },
    {
      "cell_type": "code",
      "source": [
        "# Removes all rows where the start date and end date are different\n",
        "combined_data = combined_data.loc[combined_data['formatted_start_date'] == combined_data['formatted_end_date']]\n",
        "\n"
      ],
      "metadata": {
        "id": "BNt7Hfdc_JlI"
      },
      "execution_count": 18,
      "outputs": []
    },
    {
      "cell_type": "markdown",
      "source": [
        "I remove this data because I will not be able to account for the temperature on the rows that overlap into different days."
      ],
      "metadata": {
        "id": "pcthQx68Cw17"
      }
    },
    {
      "cell_type": "code",
      "source": [
        "combined_data['journey_duration'].plot.box(vert=False)"
      ],
      "metadata": {
        "colab": {
          "base_uri": "https://localhost:8080/",
          "height": 282
        },
        "id": "tqb-y0g5Ak8E",
        "outputId": "4039c88b-90e3-4e04-a85d-407fe6b85f7e"
      },
      "execution_count": 19,
      "outputs": [
        {
          "output_type": "execute_result",
          "data": {
            "text/plain": [
              "<AxesSubplot:>"
            ]
          },
          "metadata": {},
          "execution_count": 19
        },
        {
          "output_type": "display_data",
          "data": {
            "text/plain": [
              "<Figure size 432x288 with 1 Axes>"
            ],
            "image/png": "[encoded data removed]"
          },
          "metadata": {
            "needs_background": "light"
          }
        }
      ]
    },
    {
      "cell_type": "markdown",
      "source": [
        "This still yields a the large number of outliers. Even with the dates accounted for the variance is still very large. To visualise this data and explain will be difficult."
      ],
      "metadata": {
        "id": "RqR6F7B-C8KI"
      }
    },
    {
      "cell_type": "code",
      "source": [
        "combined_data['journey_duration'].std()"
      ],
      "metadata": {
        "colab": {
          "base_uri": "https://localhost:8080/"
        },
        "id": "QloYctZC-HvZ",
        "outputId": "c2b52be6-ddb7-482c-b09f-2d4b6619dc70"
      },
      "execution_count": 20,
      "outputs": [
        {
          "output_type": "execute_result",
          "data": {
            "text/plain": [
              "29.06431743732258"
            ]
          },
          "metadata": {},
          "execution_count": 20
        }
      ]
    },
    {
      "cell_type": "code",
      "source": [
        "# Creat a data subset the data to exclude extreme values\n",
        "lower_extremes = combined_data['journey_duration'].quantile(0.10)\n",
        "upper_extremes = combined_data['journey_duration'].quantile(0.90)\n",
        "combined_data_subset = combined_data[(combined_data['journey_duration'] > lower_extremes) & (combined_data['journey_duration'] < upper_extremes)]\n"
      ],
      "metadata": {
        "id": "41MwmJr6Eh_n"
      },
      "execution_count": 21,
      "outputs": []
    },
    {
      "cell_type": "markdown",
      "source": [
        "I exclude the extreme values from the dataset to improve the accuracy and interpretability of the analysis and moddelling if neccessary. Outliers can skew the distribution and hide the more representative values in the dataset. Doing this allows me to  focus on the more typical values and create visualizations that are easier to understand and produce more meaningful conclusions. "
      ],
      "metadata": {
        "id": "1Fv2NCatHcvh"
      }
    },
    {
      "cell_type": "code",
      "source": [
        "combined_data_subset['journey_duration'].plot.box(vert=False)"
      ],
      "metadata": {
        "colab": {
          "base_uri": "https://localhost:8080/",
          "height": 282
        },
        "id": "MllWl3mHBXsn",
        "outputId": "9b17539c-8a2f-41c7-d2f4-79f2daba6f17"
      },
      "execution_count": 22,
      "outputs": [
        {
          "output_type": "execute_result",
          "data": {
            "text/plain": [
              "<AxesSubplot:>"
            ]
          },
          "metadata": {},
          "execution_count": 22
        },
        {
          "output_type": "display_data",
          "data": {
            "text/plain": [
              "<Figure size 432x288 with 1 Axes>"
            ],
            "image/png": "[encoded data removed]"
          },
          "metadata": {
            "needs_background": "light"
          }
        }
      ]
    },
    {
      "cell_type": "markdown",
      "source": [
        "There are no outliers so I can reap the benifits made in the last paragraph. Moreover this column was the only column this had to be altered to this extent due to the variance. Now I can start to analyse the data."
      ],
      "metadata": {
        "id": "ZJiTnEQC6SFD"
      }
    },
    {
      "cell_type": "markdown",
      "source": [
        "## Analysis"
      ],
      "metadata": {
        "id": "y7Ok0ZyDRtml"
      }
    },
    {
      "cell_type": "markdown",
      "source": [
        "\n",
        "### 1. Affect of Weather on journey duration \n",
        "\n"
      ],
      "metadata": {
        "id": "7wbWb5fZbopa"
      }
    },
    {
      "cell_type": "code",
      "source": [
        "# calculate correlation coefficients\n",
        "corr_matrix = combined_data_subset[['journey_duration', 'prcp_(mm)', 'tavg_(celsius)']].corr()\n",
        "\n",
        "# print the correlation coefficients\n",
        "print(corr_matrix)\n"
      ],
      "metadata": {
        "colab": {
          "base_uri": "https://localhost:8080/"
        },
        "id": "KN9uhrhtRpRc",
        "outputId": "4995b2fb-dd6c-4437-cc5b-51d9617cc628"
      },
      "execution_count": 23,
      "outputs": [
        {
          "output_type": "stream",
          "name": "stdout",
          "text": [
            "                  journey_duration  prcp_(mm)  tavg_(celsius)\n",
            "journey_duration          1.000000  -0.014656        0.008178\n",
            "prcp_(mm)                -0.014656   1.000000       -0.156034\n",
            "tavg_(celsius)            0.008178  -0.156034        1.000000\n"
          ]
        }
      ]
    },
    {
      "cell_type": "code",
      "source": [
        "# Create a scatter plot of journey duration vs temperature\n",
        "plt.scatter(combined_data_subset['tavg_(celsius)'], combined_data_subset['journey_duration'])\n",
        "plt.xlabel('Temperature (Celsius)')\n",
        "plt.ylabel('Journey Duration (minutes)')\n",
        "plt.title('Scatter plot of journey duration vs temperature')\n",
        "plt.show()\n",
        "\n",
        "# Create a scatter plot of journey duration vs precipitation\n",
        "plt.scatter(combined_data_subset['prcp_(mm)'], combined_data_subset['journey_duration'])\n",
        "plt.xlabel('Precipitation (mm)')\n",
        "plt.ylabel('Journey Duration (minutes)')\n",
        "plt.title('Scatter plot of journey duration vs precipitation')\n",
        "plt.show()"
      ],
      "metadata": {
        "colab": {
          "base_uri": "https://localhost:8080/",
          "height": 573
        },
        "id": "HjIoX5N_R8o-",
        "outputId": "db52e9ea-6246-434c-84ed-b3bafd6faf35"
      },
      "execution_count": 24,
      "outputs": [
        {
          "output_type": "display_data",
          "data": {
            "text/plain": [
              "<Figure size 432x288 with 1 Axes>"
            ],
            "image/png": "[encoded data removed]"
          },
          "metadata": {
            "needs_background": "light"
          }
        },
        {
          "output_type": "display_data",
          "data": {
            "text/plain": [
              "<Figure size 432x288 with 1 Axes>"
            ],
            "image/png": "[encoded data removed]"
          },
          "metadata": {
            "needs_background": "light"
          }
        }
      ]
    },
    {
      "cell_type": "markdown",
      "source": [
        "Scatter plots like this do not provide me any actionable information. This is becuase the temp and precipitation values are discrete and are not displayed on temperature for every hour for example."
      ],
      "metadata": {
        "id": "HnGMb1ppoV5E"
      }
    },
    {
      "cell_type": "code",
      "source": [
        "# Group the data by temperature and calculate the mean journey duration\n",
        "mean_duration_by_temp = combined_data_subset.groupby('tavg_(celsius)')['journey_duration'].mean()\n",
        "\n",
        "# Group the data by precipitation and calculate the mean journey duration\n",
        "mean_duration_by_prcp = combined_data_subset.groupby('prcp_(mm)')['journey_duration'].mean()\n"
      ],
      "metadata": {
        "id": "T0v7AviyTyyE"
      },
      "execution_count": 25,
      "outputs": []
    },
    {
      "cell_type": "code",
      "source": [
        "# Create two bar plots\n",
        "fig, axs = plt.subplots(1, 2, figsize=(10, 5))\n",
        "\n",
        "# Bar plot for temperature\n",
        "axs[0].bar(mean_duration_by_temp.index, mean_duration_by_temp.values)\n",
        "axs[0].set_xlabel('Temperature (Celsius)')\n",
        "axs[0].set_ylabel('Mean Journey Duration (minutes)')\n",
        "axs[0].set_title('Effect of Temperature on Journey Duration')\n",
        "\n",
        "# Bar plot for precipitation\n",
        "axs[1].bar(mean_duration_by_prcp.index, mean_duration_by_prcp.values)\n",
        "axs[1].set_xlabel('Precipitation (mm)')\n",
        "axs[1].set_ylabel('Mean Journey Duration (minutes)')\n",
        "axs[1].set_title('Effect of Precipitation on Journey Duration')\n",
        "\n",
        "plt.tight_layout()\n",
        "plt.show()"
      ],
      "metadata": {
        "colab": {
          "base_uri": "https://localhost:8080/",
          "height": 369
        },
        "id": "ROzIKziDUIVX",
        "outputId": "2ec04f98-a6af-4590-e88e-a0740a9d0d4c"
      },
      "execution_count": 26,
      "outputs": [
        {
          "output_type": "display_data",
          "data": {
            "text/plain": [
              "<Figure size 720x360 with 2 Axes>"
            ],
            "image/png": "[encoded data removed]"
          },
          "metadata": {
            "needs_background": "light"
          }
        }
      ]
    },
    {
      "cell_type": "markdown",
      "source": [
        "This is why i use a barplot because I can see that journey duration is not really affect the journey duration. Having said that, the journey duration was lowwest when the temperature was higher but that is the most significant change. The  "
      ],
      "metadata": {
        "id": "mwphIbdeq9g1"
      }
    },
    {
      "cell_type": "markdown",
      "source": [
        "### 1.1 Affect of Weather on cycle volume\n"
      ],
      "metadata": {
        "id": "3JAyZYpHRl1T"
      }
    },
    {
      "cell_type": "code",
      "source": [
        "# group by formatted_start_date and count the number of rows\n",
        "cycle_volume = combined_data_subset.groupby('formatted_start_date').size().reset_index(name='cycle_volume')\n",
        "\n",
        "cycle_volume.head()"
      ],
      "metadata": {
        "colab": {
          "base_uri": "https://localhost:8080/",
          "height": 206
        },
        "id": "0VJqIOOiMJir",
        "outputId": "fb0b18b7-bc74-46d8-a90c-99b100ec34a8"
      },
      "execution_count": 27,
      "outputs": [
        {
          "output_type": "execute_result",
          "data": {
            "text/plain": [
              "  formatted_start_date  cycle_volume\n",
              "0           01/08/2017         31767\n",
              "1           01/09/2017         26654\n",
              "2           02/08/2017         22351\n",
              "3           02/09/2017         21945\n",
              "4           03/08/2017         27796"
            ],
            "text/html": [
              "\n",
              "  <div id=\"df-905ff557-4e6f-4af3-b61d-ca3cb408709f\">\n",
              "    <div class=\"colab-df-container\">\n",
              "      <div>\n",
              "<style scoped>\n",
              "    .dataframe tbody tr th:only-of-type {\n",
              "        vertical-align: middle;\n",
              "    }\n",
              "\n",
              "    .dataframe tbody tr th {\n",
              "        vertical-align: top;\n",
              "    }\n",
              "\n",
              "    .dataframe thead th {\n",
              "        text-align: right;\n",
              "    }\n",
              "</style>\n",
              "<table border=\"1\" class=\"dataframe\">\n",
              "  <thead>\n",
              "    <tr style=\"text-align: right;\">\n",
              "      <th></th>\n",
              "      <th>formatted_start_date</th>\n",
              "      <th>cycle_volume</th>\n",
              "    </tr>\n",
              "  </thead>\n",
              "  <tbody>\n",
              "    <tr>\n",
              "      <th>0</th>\n",
              "      <td>01/08/2017</td>\n",
              "      <td>31767</td>\n",
              "    </tr>\n",
              "    <tr>\n",
              "      <th>1</th>\n",
              "      <td>01/09/2017</td>\n",
              "      <td>26654</td>\n",
              "    </tr>\n",
              "    <tr>\n",
              "      <th>2</th>\n",
              "      <td>02/08/2017</td>\n",
              "      <td>22351</td>\n",
              "    </tr>\n",
              "    <tr>\n",
              "      <th>3</th>\n",
              "      <td>02/09/2017</td>\n",
              "      <td>21945</td>\n",
              "    </tr>\n",
              "    <tr>\n",
              "      <th>4</th>\n",
              "      <td>03/08/2017</td>\n",
              "      <td>27796</td>\n",
              "    </tr>\n",
              "  </tbody>\n",
              "</table>\n",
              "</div>\n",
              "      <button class=\"colab-df-convert\" onclick=\"convertToInteractive('df-905ff557-4e6f-4af3-b61d-ca3cb408709f')\"\n",
              "              title=\"Convert this dataframe to an interactive table.\"\n",
              "              style=\"display:none;\">\n",
              "        \n",
              "  <svg xmlns=\"http://www.w3.org/2000/svg\" height=\"24px\"viewBox=\"0 0 24 24\"\n",
              "       width=\"24px\">\n",
              "    <path d=\"M0 0h24v24H0V0z\" fill=\"none\"/>\n",
              "    <path d=\"M18.56 5.44l.94 2.06.94-2.06 2.06-.94-2.06-.94-.94-2.06-.94 2.06-2.06.94zm-11 1L8.5 8.5l.94-2.06 2.06-.94-2.06-.94L8.5 2.5l-.94 2.06-2.06.94zm10 10l.94 2.06.94-2.06 2.06-.94-2.06-.94-.94-2.06-.94 2.06-2.06.94z\"/><path d=\"M17.41 7.96l-1.37-1.37c-.4-.4-.92-.59-1.43-.59-.52 0-1.04.2-1.43.59L10.3 9.45l-7.72 7.72c-.78.78-.78 2.05 0 2.83L4 21.41c.39.39.9.59 1.41.59.51 0 1.02-.2 1.41-.59l7.78-7.78 2.81-2.81c.8-.78.8-2.07 0-2.86zM5.41 20L4 18.59l7.72-7.72 1.47 1.35L5.41 20z\"/>\n",
              "  </svg>\n",
              "      </button>\n",
              "      \n",
              "  <style>\n",
              "    .colab-df-container {\n",
              "      display:flex;\n",
              "      flex-wrap:wrap;\n",
              "      gap: 12px;\n",
              "    }\n",
              "\n",
              "    .colab-df-convert {\n",
              "      background-color: #E8F0FE;\n",
              "      border: none;\n",
              "      border-radius: 50%;\n",
              "      cursor: pointer;\n",
              "      display: none;\n",
              "      fill: #1967D2;\n",
              "      height: 32px;\n",
              "      padding: 0 0 0 0;\n",
              "      width: 32px;\n",
              "    }\n",
              "\n",
              "    .colab-df-convert:hover {\n",
              "      background-color: #E2EBFA;\n",
              "      box-shadow: 0px 1px 2px rgba(60, 64, 67, 0.3), 0px 1px 3px 1px rgba(60, 64, 67, 0.15);\n",
              "      fill: #174EA6;\n",
              "    }\n",
              "\n",
              "    [theme=dark] .colab-df-convert {\n",
              "      background-color: #3B4455;\n",
              "      fill: #D2E3FC;\n",
              "    }\n",
              "\n",
              "    [theme=dark] .colab-df-convert:hover {\n",
              "      background-color: #434B5C;\n",
              "      box-shadow: 0px 1px 3px 1px rgba(0, 0, 0, 0.15);\n",
              "      filter: drop-shadow(0px 1px 2px rgba(0, 0, 0, 0.3));\n",
              "      fill: #FFFFFF;\n",
              "    }\n",
              "  </style>\n",
              "\n",
              "      <script>\n",
              "        const buttonEl =\n",
              "          document.querySelector('#df-905ff557-4e6f-4af3-b61d-ca3cb408709f button.colab-df-convert');\n",
              "        buttonEl.style.display =\n",
              "          google.colab.kernel.accessAllowed ? 'block' : 'none';\n",
              "\n",
              "        async function convertToInteractive(key) {\n",
              "          const element = document.querySelector('#df-905ff557-4e6f-4af3-b61d-ca3cb408709f');\n",
              "          const dataTable =\n",
              "            await google.colab.kernel.invokeFunction('convertToInteractive',\n",
              "                                                     [key], {});\n",
              "          if (!dataTable) return;\n",
              "\n",
              "          const docLinkHtml = 'Like what you see? Visit the ' +\n",
              "            '<a target=\"_blank\" href=https://colab.research.google.com/notebooks/data_table.ipynb>data table notebook</a>'\n",
              "            + ' to learn more about interactive tables.';\n",
              "          element.innerHTML = '';\n",
              "          dataTable['output_type'] = 'display_data';\n",
              "          await google.colab.output.renderOutput(dataTable, element);\n",
              "          const docLink = document.createElement('div');\n",
              "          docLink.innerHTML = docLinkHtml;\n",
              "          element.appendChild(docLink);\n",
              "        }\n",
              "      </script>\n",
              "    </div>\n",
              "  </div>\n",
              "  "
            ]
          },
          "metadata": {},
          "execution_count": 27
        }
      ]
    },
    {
      "cell_type": "code",
      "source": [
        "# merge counts_by_date with combined_data on formatted_start_date\n",
        "merged_data = pd.merge(cycle_volume, combined_data_subset, on='formatted_start_date')\n",
        "\n",
        "# calculate correlation between cycle volume and tavg_(celsius)\n",
        "corr_tavg = merged_data['cycle_volume'].corr(merged_data['tavg_(celsius)'])\n",
        "\n",
        "# calculate correlation between cycle volume and prcp_(mm)\n",
        "corr_prcp = merged_data['cycle_volume'].corr(merged_data['prcp_(mm)'])\n"
      ],
      "metadata": {
        "id": "x6DfcKqHNduB"
      },
      "execution_count": 28,
      "outputs": []
    },
    {
      "cell_type": "code",
      "source": [
        "# create scatter plot of counts and temperature\n",
        "plt.scatter(merged_data['tavg_(celsius)'], merged_data['cycle_volume'])\n",
        "plt.xlabel('Temperature (Celsius)')\n",
        "plt.ylabel('Cycle Volume')\n",
        "plt.show()\n",
        "\n",
        "# create scatter plot of counts and precipitation\n",
        "plt.scatter(merged_data['prcp_(mm)'], merged_data['cycle_volume'])\n",
        "plt.xlabel('Precipitation (mm)')\n",
        "plt.ylabel('Cycle Volume')\n",
        "plt.show()\n",
        "\n",
        "print('Correlation with temperature ' + str(corr_tavg))\n",
        "print('Correlation with precipitation ' + str(corr_prcp))"
      ],
      "metadata": {
        "colab": {
          "base_uri": "https://localhost:8080/",
          "height": 576
        },
        "id": "mYiqxaYeNv_i",
        "outputId": "6a2147a1-22a0-48cc-e22e-d8914d2dab1c"
      },
      "execution_count": 108,
      "outputs": [
        {
          "output_type": "display_data",
          "data": {
            "text/plain": [
              "<Figure size 432x288 with 1 Axes>"
            ],
            "image/png": "[encoded data removed]"
          },
          "metadata": {
            "needs_background": "light"
          }
        },
        {
          "output_type": "display_data",
          "data": {
            "text/plain": [
              "<Figure size 432x288 with 1 Axes>"
            ],
            "image/png": "[encoded data removed]"
          },
          "metadata": {
            "needs_background": "light"
          }
        },
        {
          "output_type": "stream",
          "name": "stdout",
          "text": [
            "Correlation with temperature 0.026859602995678297\n",
            "Correlation with precipitation -0.02680728193328157\n"
          ]
        }
      ]
    },
    {
      "cell_type": "markdown",
      "source": [
        "In the temperature plot, we can see a small positive correlation with the day with the highest temperature having a below average cycle volume. In the precipitation plot there is no obvious correlation."
      ],
      "metadata": {
        "id": "ZuoVF6d-tFf6"
      }
    },
    {
      "cell_type": "markdown",
      "source": [
        "### 2. The usefulness and performance of trying to predict cycle volumes"
      ],
      "metadata": {
        "id": "aSVBzgyvUOvv"
      }
    },
    {
      "cell_type": "code",
      "source": [
        "merged_data.corr()['cycle_volume']"
      ],
      "metadata": {
        "id": "tcLfmow2rSGl",
        "outputId": "d1980d1f-6238-461c-a1cc-ddfbfa6153e6",
        "colab": {
          "base_uri": "https://localhost:8080/"
        }
      },
      "execution_count": 34,
      "outputs": [
        {
          "output_type": "execute_result",
          "data": {
            "text/plain": [
              "cycle_volume        1.000000\n",
              "journey_duration   -0.022098\n",
              "end_station_id     -0.037242\n",
              "start_station_id   -0.037362\n",
              "station_id         -0.037362\n",
              "capacity            0.007792\n",
              "latitude            0.015978\n",
              "longitude           0.006599\n",
              "prcp_(mm)          -0.026807\n",
              "tavg_(celsius)      0.026860\n",
              "Name: cycle_volume, dtype: float64"
            ]
          },
          "metadata": {},
          "execution_count": 34
        }
      ]
    },
    {
      "cell_type": "markdown",
      "source": [
        "I check this to have an idea what would be the best columns to use as in input variable for the train test split."
      ],
      "metadata": {
        "id": "YKq8M-qP9p9r"
      }
    },
    {
      "cell_type": "code",
      "source": [
        "# Split the dataset into training and testing datasets\n",
        "x_train, x_test, y_train, y_test = train_test_split(merged_data[['prcp_(mm)','tavg_(celsius)','start_station_id','capacity']], merged_data['cycle_volume'], test_size=0.2, random_state=42)"
      ],
      "metadata": {
        "id": "YNtrtnNYUOKw"
      },
      "execution_count": 109,
      "outputs": []
    },
    {
      "cell_type": "code",
      "source": [
        "# Train and evaluate a linear regression model\n",
        "lin_reg = LinearRegression()\n",
        "lin_reg.fit(x_train, y_train)\n",
        "lin_reg_pred = lin_reg.predict(x_test)\n",
        "lin_reg_mse = mean_squared_error(y_test, lin_reg_pred)\n",
        "lin_reg_r2 = r2_score(y_test, lin_reg_pred)\n",
        "\n",
        "# Print the evaluation metrics\n",
        "print('Linear Regression MSE: ', lin_reg_mse)\n",
        "print('Linear Regression R2: ', lin_reg_r2)"
      ],
      "metadata": {
        "colab": {
          "base_uri": "https://localhost:8080/"
        },
        "id": "CObXUUm7_XuW",
        "outputId": "47b6b9a3-f4d0-4d03-e221-ee186edd81b3"
      },
      "execution_count": 110,
      "outputs": [
        {
          "output_type": "stream",
          "name": "stdout",
          "text": [
            "Linear Regression MSE:  17060507.822016332\n",
            "Linear Regression R2:  0.002392688274614585\n"
          ]
        }
      ]
    },
    {
      "cell_type": "markdown",
      "source": [
        "Initially, linear regression was applied as it is a basic and commonly used machine learning algorithm for regression problems. The results showed that the model was not accurate enough to predict cycle volumes, hence it was concluded that a more complex model would be needed.\n",
        "\n",
        "\n"
      ],
      "metadata": {
        "id": "XZODFM2I0Mek"
      }
    },
    {
      "cell_type": "code",
      "source": [
        "poly = PolynomialFeatures(degree=2)\n",
        "x_train_poly = poly.fit_transform(x_train)\n",
        "x_test_poly = poly.transform(x_test)\n",
        "\n",
        "# Train and evaluate a linear regression model\n",
        "poly_reg = LinearRegression()\n",
        "poly_reg.fit(x_train_poly, y_train)\n",
        "poly_reg_pred = poly_reg.predict(x_test_poly)\n",
        "poly_reg_mse = mean_squared_error(y_test, poly_reg_pred)\n",
        "poly_reg_r2 = r2_score(y_test, poly_reg_pred)\n",
        "\n",
        "print('Polynomial Regression MSE: ', poly_reg_mse)\n",
        "print('Polynomial Regression R2: ', poly_reg_r2)"
      ],
      "metadata": {
        "colab": {
          "base_uri": "https://localhost:8080/"
        },
        "id": "FeaK5p6Y_z9-",
        "outputId": "944c514a-1b52-449c-86a7-8c95929e84c3"
      },
      "execution_count": 111,
      "outputs": [
        {
          "output_type": "stream",
          "name": "stdout",
          "text": [
            "Polynomial Regression MSE:  12271143.34214863\n",
            "Polynomial Regression R2:  0.28244912466439487\n"
          ]
        }
      ]
    },
    {
      "cell_type": "markdown",
      "source": [
        "Polynomial regression was applied as it can capture non-linear relationships between the input features and the target variable. The model performed significantly better than the previous models and showed promising results."
      ],
      "metadata": {
        "id": "HdM0T1zzayl9"
      }
    },
    {
      "cell_type": "code",
      "source": [
        "# Train and evaluate a decision tree regression model\n",
        "dt_reg = DecisionTreeRegressor()\n",
        "dt_reg.fit(x_train, y_train)\n",
        "dt_reg_pred = dt_reg.predict(x_test)\n",
        "dt_reg_mse = mean_squared_error(y_test, dt_reg_pred)\n",
        "dt_reg_r2 = r2_score(y_test, dt_reg_pred)\n",
        "\n",
        "print('Decision Tree Regression MSE: ', dt_reg_mse)\n",
        "print('Decision Tree Regression R2: ', dt_reg_r2)"
      ],
      "metadata": {
        "colab": {
          "base_uri": "https://localhost:8080/"
        },
        "id": "9kNEnD0B_dQo",
        "outputId": "6e334492-2090-4839-9956-763970db31ba"
      },
      "execution_count": 112,
      "outputs": [
        {
          "output_type": "stream",
          "name": "stdout",
          "text": [
            "Decision Tree Regression MSE:  370090.83314643544\n",
            "Decision Tree Regression R2:  0.9783590661543515\n"
          ]
        }
      ]
    },
    {
      "cell_type": "markdown",
      "source": [
        "Decision tree regression was applied as it can handle non-linear relationships between the input features and the target variable. However, the results showed that the model was not much better than the linear regression model."
      ],
      "metadata": {
        "id": "tqyUVjlwawkp"
      }
    },
    {
      "cell_type": "code",
      "source": [
        "# Train and evaluate a neural network regression model\n",
        "nn_reg = MLPRegressor(hidden_layer_sizes=(1, 1), activation='relu', solver='adam')\n",
        "nn_reg.fit(x_train, y_train)\n",
        "nn_reg_pred = nn_reg.predict(x_test)\n",
        "nn_reg_mse = mean_squared_error(y_test, nn_reg_pred)\n",
        "nn_reg_r2 = r2_score(y_test, nn_reg_pred)\n",
        "\n",
        "print('Neural Network Regression MSE: ', nn_reg_mse)\n",
        "print('Neural Network Regression R2: ', nn_reg_r2)"
      ],
      "metadata": {
        "colab": {
          "base_uri": "https://localhost:8080/"
        },
        "id": "PHyFcwo3_iMk",
        "outputId": "bb90ab17-55d8-4f51-d835-9587c428d61c"
      },
      "execution_count": 136,
      "outputs": [
        {
          "output_type": "stream",
          "name": "stdout",
          "text": [
            "Neural Network Regression MSE:  17088153.156360917\n",
            "Neural Network Regression R2:  0.0007761368820667913\n"
          ]
        }
      ]
    },
    {
      "cell_type": "markdown",
      "source": [
        "Neural network regression was applied as it can capture complex and non-linear relationships between the input features and the target variable. The model performed better than the previous two models, but still, it was not accurate enough to make reliable predictions."
      ],
      "metadata": {
        "id": "jMK6KFOYaqHT"
      }
    },
    {
      "cell_type": "markdown",
      "source": [
        "### 3. Where to add another station"
      ],
      "metadata": {
        "id": "s0OAXIH--7EA"
      }
    },
    {
      "cell_type": "code",
      "source": [
        "# create a new column for start station capacity\n",
        "merged_data['start_station_capacity'] = merged_data.apply(lambda x: merged_data.loc[merged_data['station_id'] == x['start_station_id'], 'capacity'].iloc[0], axis=1)\n",
        "\n",
        "# create a new column for end station capacity\n",
        "merged_data['end_station_capacity'] = merged_data.apply(lambda x: merged_data.loc[merged_data['station_id'] != x['end_station_id'], 'capacity'].iloc[0], axis=1)"
      ],
      "metadata": {
        "id": "iGTjtNGakDX4"
      },
      "execution_count": null,
      "outputs": []
    },
    {
      "cell_type": "code",
      "source": [
        "merged_data"
      ],
      "metadata": {
        "id": "zRokqQ1GkLiI"
      },
      "execution_count": null,
      "outputs": []
    },
    {
      "cell_type": "code",
      "source": [
        "# Select the relevant features for clustering\n",
        "cluster_data = merged_data[['journey_duration', 'end_station_id', 'start_station_id', 'latitude', 'longitude']]\n",
        "\n",
        "# Standardize the data\n",
        "scaler = StandardScaler()\n",
        "cluster_data_scaled = scaler.fit_transform(cluster_data)\n",
        "\n",
        "# Determine the optimal number of clusters using the elbow method\n",
        "wcss = []\n",
        "for i in range(1, 11):\n",
        "    kmeans = KMeans(n_clusters=i, init='k-means++', random_state=42)\n",
        "    kmeans.fit(cluster_data_scaled)\n",
        "    wcss.append(kmeans.inertia_)\n",
        "plt.plot(range(1, 11), wcss)\n",
        "plt.title('Elbow Method')\n",
        "plt.xlabel('Number of clusters')\n",
        "plt.ylabel('WCSS')\n",
        "plt.show()\n",
        "\n",
        "# Fit K-means clustering on the data for the optimal number of clusters\n",
        "k = 3  # set the optimal number of clusters\n",
        "kmeans = KMeans(n_clusters=k, init='k-means++', random_state=42)\n",
        "y_kmeans = kmeans.fit_predict(cluster_data_scaled)\n",
        "\n",
        "# Add the cluster labels to the original dataset\n",
        "merged_data['cluster'] = y_kmeans\n",
        "\n",
        "# Identify the stations that have the highest volume of journeys in each cluster\n",
        "for i in range(k):\n",
        "    cluster_df = merged_data[merged_data['cluster'] == i]\n",
        "    start_station_counts = cluster_df['start_station_id'].value_counts()\n",
        "    end_station_counts = cluster_df['end_station_id'].value_counts()\n",
        "    station_counts = start_station_counts.add(end_station_counts, fill_value=0)\n",
        "    station_counts = station_counts.sort_values(ascending=False)\n",
        "    print(f\"Cluster {i+1}:\\n{station_counts.head(20)}\\n\")\n"
      ],
      "metadata": {
        "id": "SSbD7Z2g_KDd",
        "outputId": "d69a5f1e-79fb-4410-f8e7-e478956044ac",
        "colab": {
          "base_uri": "https://localhost:8080/",
          "height": 972
        }
      },
      "execution_count": 135,
      "outputs": [
        {
          "output_type": "display_data",
          "data": {
            "text/plain": [
              "<Figure size 432x288 with 1 Axes>"
            ],
            "image/png": "[encoded data removed]"
          },
          "metadata": {
            "needs_background": "light"
          }
        },
        {
          "output_type": "stream",
          "name": "stdout",
          "text": [
            "Cluster 1:\n",
            "14     592996.0\n",
            "785    382488.0\n",
            "194    369264.0\n",
            "109    299423.0\n",
            "132    290299.0\n",
            "361    283621.0\n",
            "251    265800.0\n",
            "427    247547.0\n",
            "66     236734.0\n",
            "374    226095.0\n",
            "Name: capacity, dtype: float64\n",
            "\n",
            "Cluster 2:\n",
            "680    142048.0\n",
            "737    134585.0\n",
            "625    128176.0\n",
            "762    125159.0\n",
            "723    115262.0\n",
            "682    109597.0\n",
            "671    107608.0\n",
            "780    102046.0\n",
            "772     97240.0\n",
            "345     95547.0\n",
            "Name: capacity, dtype: float64\n",
            "\n",
            "Cluster 3:\n",
            "154    369761.0\n",
            "191    348285.0\n",
            "248    267422.0\n",
            "303    251342.0\n",
            "213    217387.0\n",
            "307    205102.0\n",
            "101    166321.0\n",
            "341    161455.0\n",
            "111    159402.0\n",
            "14     159095.0\n",
            "Name: capacity, dtype: float64\n",
            "\n"
          ]
        }
      ]
    },
    {
      "cell_type": "code",
      "source": [
        "merged_data.columns"
      ],
      "metadata": {
        "id": "72C6_0tSiCtv",
        "outputId": "8dfaf160-1702-4b22-f1a1-2da145a14151",
        "colab": {
          "base_uri": "https://localhost:8080/"
        }
      },
      "execution_count": 138,
      "outputs": [
        {
          "output_type": "execute_result",
          "data": {
            "text/plain": [
              "Index(['formatted_start_date', 'cycle_volume', 'journey_duration',\n",
              "       'end_station_id', 'start_station_id', 'formatted_end_date',\n",
              "       'start_time', 'end_time', 'station_id', 'capacity', 'latitude',\n",
              "       'longitude', 'station_name', 'prcp_(mm)', 'tavg_(celsius)', 'cluster'],\n",
              "      dtype='object')"
            ]
          },
          "metadata": {},
          "execution_count": 138
        }
      ]
    }
  ]
}